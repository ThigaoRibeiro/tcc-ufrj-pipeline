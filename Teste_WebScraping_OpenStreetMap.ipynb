{
 "cells": [
  {
   "cell_type": "markdown",
   "metadata": {},
   "source": [
    "### Importação das bibliotecas necessárias para a raspagem de dados."
   ]
  },
  {
   "cell_type": "code",
   "execution_count": null,
   "metadata": {},
   "outputs": [],
   "source": [
    "print('oi')"
   ]
  },
  {
   "cell_type": "code",
   "execution_count": null,
   "metadata": {},
   "outputs": [],
   "source": [
    "# pip install selenium\n",
    "# pip install webdriver-manager\n",
    "# pip install BeautifulSoup4\n",
    "\n",
    "from selenium import webdriver\n",
    "from webdriver_manager.chrome import ChromeDriverManager\n",
    "from selenium.webdriver.chrome.service import Service\n",
    "from selenium.webdriver.chrome.options import Options\n",
    "from time import sleep\n",
    "import requests\n",
    "from bs4 import BeautifulSoup\n",
    "servico = Service(ChromeDriverManager().install())\n",
    "\n",
    "options = Options()\n",
    "options.add_argument('--headless') #--> Parâmetro adicional onde é possivel realizar o webscrapping sem abrir o navegador.\n",
    "options.add_argument('window-size=400,800') #--> Parâmetro adicional onde é possivel escolher o tamanho da tela aberta no navegador. Nesse exemplo o tamanho 400x800 é como se estivesse aberto em um celular.\n",
    "\n",
    "URL_OPEN_STREET_MAP_TRACES = 'https://www.openstreetmap.org/traces' #--> Página do OpenstreetMap onde estão localizadas as rotas para download.\n",
    "PREFIX_URL_DOWNLOAD = 'https://www.openstreetmap.org' #--> Página do principal do OpenstreetMap. Esta variável será utilizada para montar a URL das páginas de download."
   ]
  },
  {
   "cell_type": "markdown",
   "metadata": {},
   "source": [
    "### Acessando o site Open Street Map e capturando as rotas pendentes e as rotas finalizadas."
   ]
  },
  {
   "cell_type": "code",
   "execution_count": null,
   "metadata": {},
   "outputs": [],
   "source": [
    "# navegador = webdriver.Chrome(service=servico, options=options) #--> Aplicando as opções acima mencionadas no navegador.\n",
    "\n",
    "navegador = webdriver.Chrome(service=servico)\n",
    "navegador.get(URL_OPEN_STREET_MAP_TRACES)\n",
    "\n",
    "page_content = navegador.page_source\n",
    "site = BeautifulSoup(page_content, 'html.parser')\n",
    "routes = site.findAll('tr')\n",
    "\n",
    "list_pending_routes = []\n",
    "list_finished_routes = []\n",
    "list_routes = []\n",
    "\n",
    "for route in routes:\n",
    "    if route.find('span', attrs={'class': 'text-danger'}):\n",
    "        pending_routes = route.find('span', attrs={'class': 'text-danger'})    \n",
    "        pending_link_routes = route.find('a')        \n",
    "        list_routes.append([PREFIX_URL_DOWNLOAD+pending_link_routes['href']])\n",
    "        # list_pending_routes.append([PREFIX_URL_DOWNLOAD+pending_link_routes['href']])\n",
    "        print (f\"{pending_routes.text}: {PREFIX_URL_DOWNLOAD+pending_link_routes['href']}\")\n",
    "\n",
    "    else:         \n",
    "        finished_link_routes = route.find('a')        \n",
    "        list_routes.append([PREFIX_URL_DOWNLOAD+finished_link_routes['href']])\n",
    "        # list_finished_routes.append([PREFIX_URL_DOWNLOAD+finished_link_routes['href']])\n",
    "        print(f\"FINISHED: {PREFIX_URL_DOWNLOAD+finished_link_routes['href']}\")\n",
    "navegador.close()\n",
    "\n",
    "#len(list_pending_routes) #--> Verificando a quantidade de registros na lista de rotas pendentes\n",
    "#len(list_finished_routes) #--> Verificando a quantidade de registros na lista de rotas pendentes"
   ]
  },
  {
   "cell_type": "code",
   "execution_count": null,
   "metadata": {},
   "outputs": [],
   "source": [
    "#list_finished_routes\n",
    "#list_pending_routes"
   ]
  },
  {
   "cell_type": "markdown",
   "metadata": {},
   "source": [
    "### Acessando a telas para efetuar os downloads."
   ]
  },
  {
   "cell_type": "code",
   "execution_count": null,
   "metadata": {},
   "outputs": [],
   "source": [
    "## Quando usa [requests.get] estamos usando o BeautifulSoup - e quando usamos só o [.get] estamos usando o selenium\n",
    "navegador = webdriver.Chrome(service=servico)\n",
    "for list_route in list_routes:\n",
    "    sleep(5)\n",
    "    url = list_route[0]\n",
    "    navegador.get(url)  #--> Exemplo onde usamos o Selenium somente com o [.get]\n",
    "    navegador.find_element('xpath','//*[@id=\"content\"]/div[2]/div/table/tbody/tr[1]/td/a').click()\n",
    "navegador.close()"
   ]
  },
  {
   "cell_type": "markdown",
   "metadata": {},
   "source": [
    "### Executando de uma só vez"
   ]
  },
  {
   "cell_type": "code",
   "execution_count": null,
   "metadata": {},
   "outputs": [],
   "source": [
    "from selenium import webdriver\n",
    "from webdriver_manager.chrome import ChromeDriverManager\n",
    "from selenium.webdriver.chrome.service import Service\n",
    "from selenium.webdriver.chrome.options import Options\n",
    "from time import sleep\n",
    "import requests\n",
    "from bs4 import BeautifulSoup\n",
    "servico = Service(ChromeDriverManager().install())\n",
    "\n",
    "options = Options()\n",
    "options.add_argument('--headless') #--> Parâmetro adicional onde é possivel realizar o webscrapping sem abrir o navegador.\n",
    "#options.add_argument('window-size=400,800') #--> Parâmetro adicional onde é possivel escolher o tamanho da tela aberta no navegador. Nesse exemplo o tamanho 400x800 é como se estivesse aberto em um celular.\n",
    "\n",
    "URL_OPEN_STREET_MAP_TRACES = 'https://www.openstreetmap.org/traces' #--> Página do OpenstreetMap onde estão localizadas as rotas para download.\n",
    "PREFIX_URL_DOWNLOAD = 'https://www.openstreetmap.org' #--> Página do principal do OpenstreetMap. Esta variável será utilizada para montar a URL das páginas de download.\n",
    "\n",
    "# navegador = webdriver.Chrome(service=servico, options=options) #--> Aplicando as opções acima mencionadas no navegador.\n",
    "\n",
    "navegador = webdriver.Chrome(service=servico)\n",
    "navegador.get(URL_OPEN_STREET_MAP_TRACES)\n",
    "\n",
    "page_content = navegador.page_source\n",
    "site = BeautifulSoup(page_content, 'html.parser')\n",
    "routes = site.findAll('tr')\n",
    "\n",
    "list_pending_routes = []\n",
    "list_finished_routes = []\n",
    "list_routes = []\n",
    "\n",
    "for route in routes:\n",
    "    if route.find('span', attrs={'class': 'text-danger'}):\n",
    "        pending_routes = route.find('span', attrs={'class': 'text-danger'})    \n",
    "        pending_link_routes = route.find('a')        \n",
    "        list_routes.append([PREFIX_URL_DOWNLOAD+pending_link_routes['href']])\n",
    "        # list_pending_routes.append([PREFIX_URL_DOWNLOAD+pending_link_routes['href']])\n",
    "        print (f\"{pending_routes.text}: {PREFIX_URL_DOWNLOAD+pending_link_routes['href']}\")\n",
    "\n",
    "    else:         \n",
    "        finished_link_routes = route.find('a')        \n",
    "        list_routes.append([PREFIX_URL_DOWNLOAD+finished_link_routes['href']])\n",
    "        # list_finished_routes.append([PREFIX_URL_DOWNLOAD+finished_link_routes['href']])\n",
    "        print(f\"FINISHED: {PREFIX_URL_DOWNLOAD+finished_link_routes['href']}\")\n",
    "#navegador.close()\n",
    "\n",
    "#len(list_pending_routes) #--> Verificando a quantidade de registros na lista de rotas pendentes\n",
    "#len(list_finished_routes) #--> Verificando a quantidade de registros na lista de rotas pendentes\n",
    "\n",
    "## Quando usa [requests.get] estamos usando o BeautifulSoup - e quando usamos só o [.get] estamos usando o selenium\n",
    "#navegador = webdriver.Chrome(service=servico)\n",
    "for list_route in list_routes:\n",
    "    sleep(3)\n",
    "    url = list_route[0]\n",
    "    navegador.get(url)  #--> Exemplo onde usamos o Selenium somente com o [.get]\n",
    "    navegador.find_element('xpath','//*[@id=\"content\"]/div[2]/div/table/tbody/tr[1]/td/a').click()\n",
    "navegador.close()"
   ]
  },
  {
   "cell_type": "markdown",
   "metadata": {},
   "source": [
    "### Movendo os arquivos da pasta Download para o MINIO_DATA_LAKE"
   ]
  },
  {
   "cell_type": "code",
   "execution_count": null,
   "metadata": {},
   "outputs": [],
   "source": [
    "# pip install minio\n",
    "import os\n",
    "from minio import Minio\n",
    "from minio.error import S3Error\n",
    "DOWNLOADS = '/home/thiago/Downloads/'\n",
    "DATALAKE_STAGE = 'DATALAKE_STAGE'  # Substitua pelo caminho do diretório de destino\n",
    "MINIO_DATA_LAKE = 'datalake'"
   ]
  },
  {
   "cell_type": "code",
   "execution_count": null,
   "metadata": {},
   "outputs": [],
   "source": [
    "minioclient = Minio('localhost:9000',\n",
    "    access_key='minioadmin',\n",
    "    secret_key='minioadmin',\n",
    "    secure=False)\n",
    "#print(minioclient.list_buckets())\n",
    "#print(\"Quantidade de Buckets\", len(minioclient.list_buckets()))"
   ]
  },
  {
   "cell_type": "code",
   "execution_count": null,
   "metadata": {},
   "outputs": [],
   "source": [
    "files_to_rename = [arquivo for arquivo in os.listdir(DOWNLOADS) if arquivo.endswith(\".crdownload\")]\n",
    "for file_name in files_to_rename:\n",
    "        new_name = file_name.replace(\".crdownload\", \"\")\n",
    "        os.rename(os.path.join(DOWNLOADS, file_name), os.path.join(DOWNLOADS, new_name))"
   ]
  },
  {
   "cell_type": "code",
   "execution_count": null,
   "metadata": {},
   "outputs": [],
   "source": [
    "## Aqui os arquivos com a extensão .gpx saem da pasta Download para o bucket MinIO\n",
    "files_to_move = [files for files in os.listdir(DOWNLOADS) if files.endswith(\".gpx\")]\n",
    "for name_file in files_to_move:\n",
    "    local_path = os.path.join(DOWNLOADS, name_file)    \n",
    "    if os.path.isfile(local_path):\n",
    "        try:\n",
    "            minioclient.fput_object(MINIO_DATA_LAKE, name_file, local_path)\n",
    "            print(f\"Arquivo {name_file} enviado com sucesso para o bucket.\")\n",
    "        except S3Error as e:\n",
    "            print(f\"Erro ao enviar o arquivo: {item} -> Erro: {e}\")"
   ]
  },
  {
   "cell_type": "code",
   "execution_count": null,
   "metadata": {},
   "outputs": [],
   "source": [
    "## Aqui os arquivos saem da pasta download para a pasta DATALAKE_STAGE\n",
    "\n",
    "# files_to_move = [files for files in os.listdir(DOWNLOADS) if files.endswith(\".gpx\")]\n",
    "# for name_files in files_to_move:\n",
    "#     origin_path = os.path.join(DOWNLOADS, name_files)\n",
    "#     destiny_path = os.path.join(DATALAKE_STAGE, name_files)\n",
    "#     os.rename(origin_path, destiny_path)\n",
    "#     print(f\"Arquivo {name_files} movido para {destiny_path}\")"
   ]
  },
  {
   "cell_type": "code",
   "execution_count": null,
   "metadata": {},
   "outputs": [],
   "source": [
    "## Aqui os arquivos saem da pasta DATALAKE_STAGE para o bucket MinIO\n",
    "\n",
    "# for item in os.listdir(DATALAKE_STAGE):\n",
    "#     local_path = os.path.join(DATALAKE_STAGE, item)\n",
    "#     print(local_path)\n",
    "# \n",
    "#     if os.path.isfile(local_path):\n",
    "#         try:\n",
    "#             minioclient.fput_object(DATA_LAKE, item, local_path)\n",
    "#             print(f\"Arquivo {item} enviado com sucesso para o bucket.\")\n",
    "#         except S3Error as err:\n",
    "#             print(f\"Erro ao enviar o arquivo {item}: {err}\")"
   ]
  },
  {
   "cell_type": "code",
   "execution_count": null,
   "metadata": {},
   "outputs": [],
   "source": [
    "# ## DADOS PARA INSERIR NA TABELA DE CONTROLE USANDO O BEAUTIFULSOAP##\n",
    "# navegador = requests.get('https://www.openstreetmap.org/user/sunnypilot/traces/9255974')\n",
    "# site = BeautifulSoup(navegador.text, 'html.parser')\n",
    "# data_trace = site.find('div', attrs={'class': 'content-body'})\n",
    "# table_trace = data_trace.find('table')\n",
    "# \n",
    "# filename_row = table_trace.find('th', string='Filename:').parent\n",
    "# owner_row = table_trace.find('th', string='Owner:').parent\n",
    "# uploaded_row = table_trace.find('th', string='Uploaded:').parent\n",
    "# \n",
    "# filename = filename_row.find('td').text.strip().replace('(download)','').strip()\n",
    "# owner = owner_row.find('td').text.strip()\n",
    "# uploaded = uploaded_row.find('td').text.strip()"
   ]
  }
 ],
 "metadata": {
  "kernelspec": {
   "display_name": "venv",
   "language": "python",
   "name": "python3"
  },
  "language_info": {
   "codemirror_mode": {
    "name": "ipython",
    "version": 3
   },
   "file_extension": ".py",
   "mimetype": "text/x-python",
   "name": "python",
   "nbconvert_exporter": "python",
   "pygments_lexer": "ipython3",
   "version": "3.10.12"
  },
  "orig_nbformat": 4
 },
 "nbformat": 4,
 "nbformat_minor": 2
}

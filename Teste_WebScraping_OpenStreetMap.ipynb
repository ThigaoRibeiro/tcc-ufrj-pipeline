{
 "cells": [
  {
   "cell_type": "markdown",
   "metadata": {},
   "source": [
    "### Importação das bibliotecas necessárias para a raspagem de dados."
   ]
  },
  {
   "cell_type": "code",
   "execution_count": null,
   "metadata": {},
   "outputs": [],
   "source": [
    "# pip install selenium\n",
    "# pip install webdriver-manager\n",
    "# pip install BeautifulSoup4\n",
    "\n",
    "from selenium import webdriver\n",
    "from webdriver_manager.chrome import ChromeDriverManager\n",
    "from selenium.webdriver.chrome.service import Service\n",
    "import time\n",
    "from bs4 import BeautifulSoup\n",
    "servico = Service(ChromeDriverManager().install())\n",
    "import re\n",
    "import os\n",
    "\n",
    "# from selenium.webdriver.chrome.options import Options\n",
    "# import requests\n",
    "# options = Options()\n",
    "# options.add_argument('--headless') #--> Parâmetro adicional onde é possivel realizar o webscrapping sem abrir o navegador.\n",
    "# options.add_argument('window-size=400,800') #--> Parâmetro adicional onde é possivel escolher o tamanho da tela aberta no navegador. Nesse exemplo o tamanho 400x800 é como se estivesse aberto em um celular.\n",
    "\n",
    "URL_OPEN_STREET_MAP_TRACES = 'https://www.openstreetmap.org/traces' #--> Página do OpenstreetMap onde estão localizadas as rotas para download.\n",
    "PREFIX_URL_DOWNLOAD = 'https://www.openstreetmap.org' #--> Página do principal do OpenstreetMap. Esta variável será utilizada para montar a URL das páginas de download.\n",
    "DOWNLOADS = '/home/thiago/Downloads/'\n",
    "PRE_PROCESSING = 'PRE_PROCESSING'"
   ]
  },
  {
   "cell_type": "markdown",
   "metadata": {},
   "source": [
    "## Acessando o site Open Street Map e capturando as rotas pendentes e as rotas finalizadas."
   ]
  },
  {
   "cell_type": "code",
   "execution_count": null,
   "metadata": {},
   "outputs": [],
   "source": [
    "# navegador = webdriver.Chrome(service=servico, options=options) #--> Aplicando as opções acima mencionadas no navegador.\n",
    "\n",
    "navegador = webdriver.Chrome(service=servico)\n",
    "navegador.get(URL_OPEN_STREET_MAP_TRACES)\n",
    "\n",
    "page_content = navegador.page_source\n",
    "site = BeautifulSoup(page_content, 'html.parser')\n",
    "routes = site.findAll('tr')\n",
    "\n",
    "list_pending_routes = []\n",
    "list_finished_routes = []\n",
    "list_routes = []\n",
    "\n",
    "for route in routes:\n",
    "    if route.find('span', attrs={'class': 'text-danger'}):\n",
    "        pending_routes = route.find('span', attrs={'class': 'text-danger'})    \n",
    "        pending_link_routes = route.find('a')        \n",
    "        list_routes.append([PREFIX_URL_DOWNLOAD+pending_link_routes['href']])\n",
    "        # list_pending_routes.append([PREFIX_URL_DOWNLOAD+pending_link_routes['href']])\n",
    "        print (f\"{pending_routes.text}: {PREFIX_URL_DOWNLOAD+pending_link_routes['href']}\")\n",
    "\n",
    "    else:         \n",
    "        finished_link_routes = route.find('a')        \n",
    "        list_routes.append([PREFIX_URL_DOWNLOAD+finished_link_routes['href']])\n",
    "        # list_finished_routes.append([PREFIX_URL_DOWNLOAD+finished_link_routes['href']])\n",
    "        print(f\"FINISHED: {PREFIX_URL_DOWNLOAD+finished_link_routes['href']}\")\n",
    "time.sleep(3)\n",
    "navegador.close()\n",
    "\n",
    "#len(list_pending_routes) #--> Verificando a quantidade de registros na lista de rotas pendentes\n",
    "#len(list_finished_routes) #--> Verificando a quantidade de registros na lista de rotas pendentes"
   ]
  },
  {
   "cell_type": "markdown",
   "metadata": {},
   "source": [
    "## Acessando a telas para efetuar os downloads - Renomeando os arquivo adicionando o nome dos usuários - Movendo para a pasta PRE_PROCESSING"
   ]
  },
  {
   "cell_type": "code",
   "execution_count": null,
   "metadata": {},
   "outputs": [],
   "source": [
    "navegador = webdriver.Chrome(service=servico)\n",
    "users = []\n",
    "for list_route in list_routes:\n",
    "    time.sleep(3)\n",
    "    url = list_route[0]\n",
    "    navegador.get(url) #--> Exemplo onde usamos o Selenium somente com o [.get]\n",
    "\n",
    "    user_page_content = navegador.page_source\n",
    "    site_user = BeautifulSoup(user_page_content, 'html.parser')\n",
    "\n",
    "    if any(td.find('span', attrs={'class': 'text-danger'}) for td in site_user):\n",
    "        tb_user_name = navegador.find_element('xpath', '//*[@id=\"content\"]/div[2]/div/table/tbody/tr[4]/td')\n",
    "        user_name = tb_user_name.text\n",
    "        user_name = re.sub(r'\\s|\\.|\\(|\\)','_',user_name)        \n",
    "        print(f'Rota PENDENTE: {list_route} Usuário: {user_name}')\n",
    "        navegador.find_element('xpath','//*[@id=\"content\"]/div[2]/div/table/tbody/tr[1]/td/a').click()\n",
    "        users.append(user_name)\n",
    "\n",
    "    else:\n",
    "        tb_user_name = navegador.find_element('xpath', '//*[@id=\"content\"]/div[2]/div/table/tbody/tr[6]/td')\n",
    "        user_name = tb_user_name.text\n",
    "        user_name = re.sub(r'\\s|\\.|\\(|\\)','_',user_name)\n",
    "        print(f'Rota FINALIZADA: {list_route} Usuário: {user_name}')\n",
    "        navegador.find_element('xpath','//*[@id=\"content\"]/div[2]/div/table/tbody/tr[1]/td/a').click()\n",
    "        users.append(user_name)\n",
    "time.sleep(3)\n",
    "navegador.close()"
   ]
  },
  {
   "cell_type": "code",
   "execution_count": null,
   "metadata": {},
   "outputs": [],
   "source": [
    "## Corrigindo o nome dos arquivos conforme seus usuários\n",
    "files_to_rename = [arquivo for arquivo in os.listdir(DOWNLOADS) if arquivo.endswith(\".crdownload\")]\n",
    "for file_name in files_to_rename:\n",
    "        new_name = file_name.replace(\".crdownload\", \"\")\n",
    "        os.rename(os.path.join(DOWNLOADS, file_name), os.path.join(DOWNLOADS, new_name))\n",
    "\n",
    "files_to_rename_gpx = sorted([arquivo for arquivo in os.listdir(DOWNLOADS) if arquivo.endswith(\".gpx\")], reverse=True)\n",
    "files_to_rename_gpx\n",
    "\n",
    "for user, file_to_rename_gpx in zip(users, files_to_rename_gpx):\n",
    "    if os.listdir(DOWNLOADS):\n",
    "        old_path = os.path.join(DOWNLOADS, file_to_rename_gpx)        \n",
    "        new_name = f\"{file_to_rename_gpx.replace('.gpx', '')}__{user}.gpx\"        \n",
    "        new_path = os.path.join(DOWNLOADS,new_name)        \n",
    "        #print(new_path)\n",
    "        os.rename(old_path, new_path)"
   ]
  },
  {
   "cell_type": "code",
   "execution_count": null,
   "metadata": {},
   "outputs": [],
   "source": [
    "# Movendo os arquivos para a pasta PRE_PROCESSING\n",
    "time.sleep(3)\n",
    "files_to_move_pre_processing = [arquivo for arquivo in os.listdir(DOWNLOADS) if arquivo.endswith(\".gpx\")]\n",
    "for file_to_move_pre_processing in files_to_move_pre_processing:\n",
    "    src_path = os.path.join(DOWNLOADS, file_to_move_pre_processing)\n",
    "    dest_path = os.path.join(PRE_PROCESSING, file_to_move_pre_processing)\n",
    "    try:\n",
    "        os.rename(src_path,dest_path)\n",
    "        print(f\"Arquivo '{file_to_move_pre_processing}' movido para a pasta {PRE_PROCESSING}.\")\n",
    "    except Exception as e:\n",
    "        print(f\"Erro ao mover o arquivo: '{file_to_move_pre_processing}': {e}.\")"
   ]
  },
  {
   "cell_type": "markdown",
   "metadata": {},
   "source": [
    "## Executando de uma só vez - Entendo que essa execução deve se dar de uma única vez, pois pode haver alguma falha no momento de renomear os arquivos"
   ]
  },
  {
   "cell_type": "code",
   "execution_count": 1,
   "metadata": {},
   "outputs": [
    {
     "name": "stdout",
     "output_type": "stream",
     "text": [
      "PENDING: https://www.openstreetmap.org/user/sunnypilot/traces/9632234\n",
      "PENDING: https://www.openstreetmap.org/user/sunnypilot/traces/9632233\n",
      "PENDING: https://www.openstreetmap.org/user/sunnypilot/traces/9632232\n",
      "PENDING: https://www.openstreetmap.org/user/sunnypilot/traces/9632231\n",
      "PENDING: https://www.openstreetmap.org/user/sunnypilot/traces/9632230\n",
      "FINISHED: https://www.openstreetmap.org/user/sunnypilot/traces/9632229\n",
      "FINISHED: https://www.openstreetmap.org/user/sunnypilot/traces/9632228\n",
      "PENDING: https://www.openstreetmap.org/user/sunnypilot/traces/9632227\n",
      "PENDING: https://www.openstreetmap.org/user/sunnypilot/traces/9632226\n",
      "FINISHED: https://www.openstreetmap.org/user/sunnypilot/traces/9632225\n",
      "FINISHED: https://www.openstreetmap.org/user/sunnypilot/traces/9632224\n",
      "FINISHED: https://www.openstreetmap.org/user/sunnypilot/traces/9632223\n",
      "FINISHED: https://www.openstreetmap.org/user/sunnypilot/traces/9632222\n",
      "FINISHED: https://www.openstreetmap.org/user/sunnypilot/traces/9632221\n",
      "FINISHED: https://www.openstreetmap.org/user/sunnypilot/traces/9632220\n",
      "FINISHED: https://www.openstreetmap.org/user/sunnypilot/traces/9632219\n",
      "FINISHED: https://www.openstreetmap.org/user/sunnypilot/traces/9632218\n",
      "FINISHED: https://www.openstreetmap.org/user/sunnypilot/traces/9632217\n",
      "FINISHED: https://www.openstreetmap.org/user/sunnypilot/traces/9632216\n",
      "FINISHED: https://www.openstreetmap.org/user/sunnypilot/traces/9632214\n",
      "Rota FINALIZADA: ['https://www.openstreetmap.org/user/sunnypilot/traces/9632234'] Usuário: Routes_from_sunnypilot_2023_08_19-dev__HYUNDAI_SANTA_FE_2019__\n",
      "Rota PENDENTE: ['https://www.openstreetmap.org/user/sunnypilot/traces/9632233'] Usuário: Routes_from_sunnypilot_2023_08_19-dev__HYUNDAI_SANTA_FE_2019__\n",
      "Rota PENDENTE: ['https://www.openstreetmap.org/user/sunnypilot/traces/9632232'] Usuário: Routes_from_sunnypilot_2023_08_19-dev__HYUNDAI_SANTA_FE_2019__\n",
      "Rota FINALIZADA: ['https://www.openstreetmap.org/user/sunnypilot/traces/9632231'] Usuário: Routes_from_sunnypilot_2023_08_19-dev__HYUNDAI_SANTA_FE_2019__\n",
      "Rota FINALIZADA: ['https://www.openstreetmap.org/user/sunnypilot/traces/9632230'] Usuário: Routes_from_sunnypilot_2023_08_19-dev__HYUNDAI_SANTA_FE_2019__\n",
      "Rota FINALIZADA: ['https://www.openstreetmap.org/user/sunnypilot/traces/9632229'] Usuário: Routes_from_sunnypilot_2023_08_19-dev__HYUNDAI_SANTA_FE_2019__\n",
      "Rota FINALIZADA: ['https://www.openstreetmap.org/user/sunnypilot/traces/9632228'] Usuário: Routes_from_sunnypilot_2023_08_19-dev__HYUNDAI_SANTA_FE_2019__\n",
      "Rota FINALIZADA: ['https://www.openstreetmap.org/user/sunnypilot/traces/9632227'] Usuário: Routes_from_sunnypilot_2023_08_19-dev__CHEVROLET_BOLT_EUV_2022__\n",
      "Rota FINALIZADA: ['https://www.openstreetmap.org/user/sunnypilot/traces/9632226'] Usuário: Routes_from_sunnypilot_2023_08_19-dev__HYUNDAI_SANTA_FE_2019__\n",
      "Rota FINALIZADA: ['https://www.openstreetmap.org/user/sunnypilot/traces/9632225'] Usuário: Routes_from_sunnypilot_2023_08_19-dev__HYUNDAI_SANTA_FE_2019__\n",
      "Rota FINALIZADA: ['https://www.openstreetmap.org/user/sunnypilot/traces/9632224'] Usuário: Routes_from_sunnypilot_2023_08_19-dev__HYUNDAI_SANTA_FE_2019__\n",
      "Rota FINALIZADA: ['https://www.openstreetmap.org/user/sunnypilot/traces/9632223'] Usuário: Routes_from_sunnypilot_2023_08_19-dev__HONDA_ACCORD_2018__\n",
      "Rota FINALIZADA: ['https://www.openstreetmap.org/user/sunnypilot/traces/9632222'] Usuário: Routes_from_sunnypilot_2023_08_19-dev__HYUNDAI_SANTA_FE_2019__\n",
      "Rota FINALIZADA: ['https://www.openstreetmap.org/user/sunnypilot/traces/9632221'] Usuário: Routes_from_sunnypilot_0_9_4_1-release__CHRYSLER_PACIFICA_HYBRID_2019__\n",
      "Rota FINALIZADA: ['https://www.openstreetmap.org/user/sunnypilot/traces/9632220'] Usuário: Routes_from_sunnypilot_2023_08_19-dev__HYUNDAI_SANTA_FE_2019__\n",
      "Rota FINALIZADA: ['https://www.openstreetmap.org/user/sunnypilot/traces/9632219'] Usuário: Routes_from_sunnypilot_2023_08_19-dev__HYUNDAI_ELANTRA_2021__\n",
      "Rota FINALIZADA: ['https://www.openstreetmap.org/user/sunnypilot/traces/9632218'] Usuário: Routes_from_sunnypilot_2023_08_19-dev__HYUNDAI_SANTA_FE_2019__\n",
      "Rota FINALIZADA: ['https://www.openstreetmap.org/user/sunnypilot/traces/9632217'] Usuário: Routes_from_sunnypilot_2023_08_19-dev__HYUNDAI_SANTA_FE_2019__\n",
      "Rota FINALIZADA: ['https://www.openstreetmap.org/user/sunnypilot/traces/9632216'] Usuário: Routes_from_sunnypilot_0_9_4_1-release__TOYOTA_RAV4_2019__\n",
      "Rota FINALIZADA: ['https://www.openstreetmap.org/user/sunnypilot/traces/9632214'] Usuário: Routes_from_sunnypilot_2023_08_19-dev__SUBARU_IMPREZA_LIMITED_2019__\n",
      "Arquivo '9632227__Routes_from_sunnypilot_2023_08_19-dev__CHEVROLET_BOLT_EUV_2022__.gpx' movido para a pasta PRE_PROCESSING.\n",
      "Arquivo '9632230__Routes_from_sunnypilot_2023_08_19-dev__HYUNDAI_SANTA_FE_2019__.gpx' movido para a pasta PRE_PROCESSING.\n",
      "Arquivo '9632218__Routes_from_sunnypilot_2023_08_19-dev__HYUNDAI_SANTA_FE_2019__.gpx' movido para a pasta PRE_PROCESSING.\n",
      "Arquivo '9632216__Routes_from_sunnypilot_0_9_4_1-release__TOYOTA_RAV4_2019__.gpx' movido para a pasta PRE_PROCESSING.\n",
      "Arquivo '9632214__Routes_from_sunnypilot_2023_08_19-dev__SUBARU_IMPREZA_LIMITED_2019__.gpx' movido para a pasta PRE_PROCESSING.\n",
      "Arquivo '9632228__Routes_from_sunnypilot_2023_08_19-dev__HYUNDAI_SANTA_FE_2019__.gpx' movido para a pasta PRE_PROCESSING.\n",
      "Arquivo '9632229__Routes_from_sunnypilot_2023_08_19-dev__HYUNDAI_SANTA_FE_2019__.gpx' movido para a pasta PRE_PROCESSING.\n",
      "Arquivo '9632223__Routes_from_sunnypilot_2023_08_19-dev__HONDA_ACCORD_2018__.gpx' movido para a pasta PRE_PROCESSING.\n",
      "Arquivo '9632221__Routes_from_sunnypilot_0_9_4_1-release__CHRYSLER_PACIFICA_HYBRID_2019__.gpx' movido para a pasta PRE_PROCESSING.\n",
      "Arquivo '9632220__Routes_from_sunnypilot_2023_08_19-dev__HYUNDAI_SANTA_FE_2019__.gpx' movido para a pasta PRE_PROCESSING.\n",
      "Arquivo '9632217__Routes_from_sunnypilot_2023_08_19-dev__HYUNDAI_SANTA_FE_2019__.gpx' movido para a pasta PRE_PROCESSING.\n",
      "Arquivo '9632224__Routes_from_sunnypilot_2023_08_19-dev__HYUNDAI_SANTA_FE_2019__.gpx' movido para a pasta PRE_PROCESSING.\n",
      "Arquivo '9632233__Routes_from_sunnypilot_2023_08_19-dev__HYUNDAI_SANTA_FE_2019__.gpx' movido para a pasta PRE_PROCESSING.\n",
      "Arquivo '9632226__Routes_from_sunnypilot_2023_08_19-dev__HYUNDAI_SANTA_FE_2019__.gpx' movido para a pasta PRE_PROCESSING.\n",
      "Arquivo '9632232__Routes_from_sunnypilot_2023_08_19-dev__HYUNDAI_SANTA_FE_2019__.gpx' movido para a pasta PRE_PROCESSING.\n",
      "Arquivo '9632231__Routes_from_sunnypilot_2023_08_19-dev__HYUNDAI_SANTA_FE_2019__.gpx' movido para a pasta PRE_PROCESSING.\n",
      "Arquivo '9632222__Routes_from_sunnypilot_2023_08_19-dev__HYUNDAI_SANTA_FE_2019__.gpx' movido para a pasta PRE_PROCESSING.\n",
      "Arquivo '9632219__Routes_from_sunnypilot_2023_08_19-dev__HYUNDAI_ELANTRA_2021__.gpx' movido para a pasta PRE_PROCESSING.\n",
      "Arquivo '9632225__Routes_from_sunnypilot_2023_08_19-dev__HYUNDAI_SANTA_FE_2019__.gpx' movido para a pasta PRE_PROCESSING.\n",
      "Arquivo '9632234__Routes_from_sunnypilot_2023_08_19-dev__HYUNDAI_SANTA_FE_2019__.gpx' movido para a pasta PRE_PROCESSING.\n"
     ]
    }
   ],
   "source": [
    "# pip install selenium\n",
    "# pip install webdriver-manager\n",
    "# pip install BeautifulSoup4\n",
    "\n",
    "from selenium import webdriver\n",
    "from webdriver_manager.chrome import ChromeDriverManager\n",
    "from selenium.webdriver.chrome.service import Service\n",
    "import time\n",
    "from bs4 import BeautifulSoup\n",
    "servico = Service(ChromeDriverManager().install())\n",
    "import re\n",
    "import os\n",
    "\n",
    "# from selenium.webdriver.chrome.options import Options\n",
    "# import requests\n",
    "# options = Options()\n",
    "# options.add_argument('--headless') #--> Parâmetro adicional onde é possivel realizar o webscrapping sem abrir o navegador.\n",
    "# options.add_argument('window-size=400,800') #--> Parâmetro adicional onde é possivel escolher o tamanho da tela aberta no navegador. Nesse exemplo o tamanho 400x800 é como se estivesse aberto em um celular.\n",
    "# navegador = webdriver.Chrome(service=servico, options=options) #--> Aplicando as opções acima mencionadas no navegador.\n",
    "\n",
    "URL_OPEN_STREET_MAP_TRACES = 'https://www.openstreetmap.org/traces' #--> Página do OpenstreetMap onde estão localizadas as rotas para download.\n",
    "PREFIX_URL_DOWNLOAD = 'https://www.openstreetmap.org' #--> Página do principal do OpenstreetMap. Esta variável será utilizada para montar a URL das páginas de download.\n",
    "DOWNLOADS = '/home/thiago/Downloads/'\n",
    "PRE_PROCESSING = 'PRE_PROCESSING'\n",
    "\n",
    "navegador = webdriver.Chrome(service=servico)\n",
    "navegador.get(URL_OPEN_STREET_MAP_TRACES)\n",
    "\n",
    "page_content = navegador.page_source\n",
    "site = BeautifulSoup(page_content, 'html.parser')\n",
    "routes = site.findAll('tr')\n",
    "\n",
    "list_pending_routes = []\n",
    "list_finished_routes = []\n",
    "list_routes = []\n",
    "\n",
    "for route in routes:\n",
    "    if route.find('span', attrs={'class': 'text-danger'}):\n",
    "        pending_routes = route.find('span', attrs={'class': 'text-danger'})    \n",
    "        pending_link_routes = route.find('a')        \n",
    "        list_routes.append([PREFIX_URL_DOWNLOAD+pending_link_routes['href']])\n",
    "        # list_pending_routes.append([PREFIX_URL_DOWNLOAD+pending_link_routes['href']])\n",
    "        print (f\"{pending_routes.text}: {PREFIX_URL_DOWNLOAD+pending_link_routes['href']}\")\n",
    "\n",
    "    else:         \n",
    "        finished_link_routes = route.find('a')        \n",
    "        list_routes.append([PREFIX_URL_DOWNLOAD+finished_link_routes['href']])\n",
    "        # list_finished_routes.append([PREFIX_URL_DOWNLOAD+finished_link_routes['href']])\n",
    "        print(f\"FINISHED: {PREFIX_URL_DOWNLOAD+finished_link_routes['href']}\")\n",
    "time.sleep(3)\n",
    "navegador.close()\n",
    "\n",
    "#len(list_pending_routes) #--> Verificando a quantidade de registros na lista de rotas pendentes\n",
    "#len(list_finished_routes) #--> Verificando a quantidade de registros na lista de rotas pendentes\n",
    "\n",
    "## Quando usa [requests.get] estamos usando o BeautifulSoup - e quando usamos só o [.get] estamos usando o selenium\n",
    "#navegador = webdriver.Chrome(service=servico)\n",
    "\n",
    "\n",
    "## Baixando os arquivos \n",
    "navegador = webdriver.Chrome(service=servico)\n",
    "users = []\n",
    "for list_route in list_routes:\n",
    "    time.sleep(3)\n",
    "    url = list_route[0]\n",
    "    navegador.get(url) #--> Exemplo onde usamos o Selenium somente com o [.get]\n",
    "\n",
    "    user_page_content = navegador.page_source\n",
    "    site_user = BeautifulSoup(user_page_content, 'html.parser')\n",
    "\n",
    "    if any(td.find('span', attrs={'class': 'text-danger'}) for td in site_user):\n",
    "        tb_user_name = navegador.find_element('xpath', '//*[@id=\"content\"]/div[2]/div/table/tbody/tr[4]/td')\n",
    "        user_name = tb_user_name.text\n",
    "        user_name = re.sub(r'\\s|\\.|\\(|\\)','_',user_name)        \n",
    "        print(f'Rota PENDENTE: {list_route} Usuário: {user_name}')\n",
    "        navegador.find_element('xpath','//*[@id=\"content\"]/div[2]/div/table/tbody/tr[1]/td/a').click()\n",
    "        users.append(user_name)\n",
    "\n",
    "    else:\n",
    "        tb_user_name = navegador.find_element('xpath', '//*[@id=\"content\"]/div[2]/div/table/tbody/tr[6]/td')\n",
    "        user_name = tb_user_name.text\n",
    "        user_name = re.sub(r'\\s|\\.|\\(|\\)','_',user_name)\n",
    "        print(f'Rota FINALIZADA: {list_route} Usuário: {user_name}')\n",
    "        navegador.find_element('xpath','//*[@id=\"content\"]/div[2]/div/table/tbody/tr[1]/td/a').click()\n",
    "        users.append(user_name)\n",
    "time.sleep(3)\n",
    "navegador.close()\n",
    "\n",
    "\n",
    "## Corrigindo o nome dos arquivos conforme seus usuários\n",
    "files_to_rename = [arquivo for arquivo in os.listdir(DOWNLOADS) if arquivo.endswith(\".crdownload\")]\n",
    "for file_name in files_to_rename:\n",
    "        new_name = file_name.replace(\".crdownload\", \"\")\n",
    "        os.rename(os.path.join(DOWNLOADS, file_name), os.path.join(DOWNLOADS, new_name))\n",
    "\n",
    "files_to_rename_gpx = sorted([arquivo for arquivo in os.listdir(DOWNLOADS) if arquivo.endswith(\".gpx\")], reverse=True)\n",
    "files_to_rename_gpx\n",
    "\n",
    "for user, file_to_rename_gpx in zip(users, files_to_rename_gpx):\n",
    "    if os.listdir(DOWNLOADS):\n",
    "        old_path = os.path.join(DOWNLOADS, file_to_rename_gpx)        \n",
    "        new_name = f\"{file_to_rename_gpx.replace('.gpx', '')}__{user}.gpx\"        \n",
    "        new_path = os.path.join(DOWNLOADS,new_name)        \n",
    "        #print(new_path)\n",
    "        os.rename(old_path, new_path)\n",
    "\n",
    "\n",
    "# Movendo os arquivos para a pasta PRE_PROCESSING\n",
    "time.sleep(3)\n",
    "files_to_move_pre_processing = [arquivo for arquivo in os.listdir(DOWNLOADS) if arquivo.endswith(\".gpx\")]\n",
    "for file_to_move_pre_processing in files_to_move_pre_processing:\n",
    "    src_path = os.path.join(DOWNLOADS, file_to_move_pre_processing)\n",
    "    dest_path = os.path.join(PRE_PROCESSING, file_to_move_pre_processing)\n",
    "    try:\n",
    "        os.rename(src_path,dest_path)\n",
    "        print(f\"Arquivo '{file_to_move_pre_processing}' movido para a pasta {PRE_PROCESSING}.\")\n",
    "    except Exception as e:\n",
    "        print(f\"Erro ao mover o arquivo: '{file_to_move_pre_processing}': {e}.\")"
   ]
  },
  {
   "cell_type": "markdown",
   "metadata": {},
   "source": [
    "# VERIFICAR A FORMA DE LER OS ARQUIVOS QUE ESTÃO NA PASTA DE DOWNLOAD - CONVERTER PARA CSV OU PARQUET E APÓS ESSA CONVERSÃO LEVAR PARA O MINIO"
   ]
  },
  {
   "cell_type": "markdown",
   "metadata": {},
   "source": [
    "## Lendo arquivos do Bucket - Transformando os arquivos .gpx em um dataframe e CSV e iniciando com PySpark"
   ]
  },
  {
   "cell_type": "code",
   "execution_count": 2,
   "metadata": {},
   "outputs": [],
   "source": [
    "import os"
   ]
  },
  {
   "cell_type": "code",
   "execution_count": 7,
   "metadata": {},
   "outputs": [
    {
     "data": {
      "text/plain": [
       "['9632227__Routes_from_sunnypilot_2023_08_19-dev__CHEVROLET_BOLT_EUV_2022__.gpx',\n",
       " '9632230__Routes_from_sunnypilot_2023_08_19-dev__HYUNDAI_SANTA_FE_2019__.gpx',\n",
       " '9632218__Routes_from_sunnypilot_2023_08_19-dev__HYUNDAI_SANTA_FE_2019__.gpx',\n",
       " '9632216__Routes_from_sunnypilot_0_9_4_1-release__TOYOTA_RAV4_2019__.gpx',\n",
       " '9632214__Routes_from_sunnypilot_2023_08_19-dev__SUBARU_IMPREZA_LIMITED_2019__.gpx',\n",
       " '9632228__Routes_from_sunnypilot_2023_08_19-dev__HYUNDAI_SANTA_FE_2019__.gpx',\n",
       " '9632229__Routes_from_sunnypilot_2023_08_19-dev__HYUNDAI_SANTA_FE_2019__.gpx',\n",
       " '9632223__Routes_from_sunnypilot_2023_08_19-dev__HONDA_ACCORD_2018__.gpx',\n",
       " '9632221__Routes_from_sunnypilot_0_9_4_1-release__CHRYSLER_PACIFICA_HYBRID_2019__.gpx',\n",
       " '9632220__Routes_from_sunnypilot_2023_08_19-dev__HYUNDAI_SANTA_FE_2019__.gpx',\n",
       " '9632217__Routes_from_sunnypilot_2023_08_19-dev__HYUNDAI_SANTA_FE_2019__.gpx',\n",
       " '9632224__Routes_from_sunnypilot_2023_08_19-dev__HYUNDAI_SANTA_FE_2019__.gpx',\n",
       " '9632233__Routes_from_sunnypilot_2023_08_19-dev__HYUNDAI_SANTA_FE_2019__.gpx',\n",
       " '9632226__Routes_from_sunnypilot_2023_08_19-dev__HYUNDAI_SANTA_FE_2019__.gpx',\n",
       " '9632232__Routes_from_sunnypilot_2023_08_19-dev__HYUNDAI_SANTA_FE_2019__.gpx',\n",
       " '9632231__Routes_from_sunnypilot_2023_08_19-dev__HYUNDAI_SANTA_FE_2019__.gpx',\n",
       " '9632222__Routes_from_sunnypilot_2023_08_19-dev__HYUNDAI_SANTA_FE_2019__.gpx',\n",
       " '9632219__Routes_from_sunnypilot_2023_08_19-dev__HYUNDAI_ELANTRA_2021__.gpx',\n",
       " '9632225__Routes_from_sunnypilot_2023_08_19-dev__HYUNDAI_SANTA_FE_2019__.gpx',\n",
       " '9632234__Routes_from_sunnypilot_2023_08_19-dev__HYUNDAI_SANTA_FE_2019__.gpx']"
      ]
     },
     "execution_count": 7,
     "metadata": {},
     "output_type": "execute_result"
    }
   ],
   "source": [
    "files_to_pre_processing = [arquivo for arquivo in os.listdir(PRE_PROCESSING) if arquivo.endswith(\".gpx\")]\n",
    "files_to_pre_processing"
   ]
  },
  {
   "cell_type": "code",
   "execution_count": 8,
   "metadata": {},
   "outputs": [],
   "source": [
    "# pip install gpxpy\n",
    "from io import BytesIO\n",
    "import gpxpy \n",
    "import gpxpy.gpx \n",
    "import pandas as pd\n",
    "import xml.etree.ElementTree as ET"
   ]
  },
  {
   "cell_type": "code",
   "execution_count": 10,
   "metadata": {},
   "outputs": [],
   "source": [
    "with open('9632219__Routes_from_sunnypilot_2023_08_19-dev__HYUNDAI_ELANTRA_2021__.gpx', 'r', encoding='utf-8') as gpx_file:    \n",
    "    gpx = gpxpy.parse(gpx_file)"
   ]
  },
  {
   "cell_type": "code",
   "execution_count": 11,
   "metadata": {},
   "outputs": [
    {
     "data": {
      "text/plain": [
       "GPX(tracks=[GPXTrack(name='2023-08-22T21:52:56.426764', segments=[GPXTrackSegment(points=[...])])])"
      ]
     },
     "execution_count": 11,
     "metadata": {},
     "output_type": "execute_result"
    }
   ],
   "source": [
    "gpx"
   ]
  },
  {
   "cell_type": "code",
   "execution_count": null,
   "metadata": {},
   "outputs": [],
   "source": []
  },
  {
   "cell_type": "code",
   "execution_count": null,
   "metadata": {},
   "outputs": [],
   "source": []
  },
  {
   "cell_type": "markdown",
   "metadata": {},
   "source": [
    "## Daqui para baixo é para mover para o Minio\n"
   ]
  },
  {
   "cell_type": "code",
   "execution_count": null,
   "metadata": {},
   "outputs": [],
   "source": [
    "# pip install minio\n",
    "import os\n",
    "from minio import Minio\n",
    "from minio.error import S3Error\n",
    "from io import BytesIO\n",
    "import gpxpy \n",
    "import gpxpy.gpx \n",
    "import pandas as pd\n",
    "from xml.dom import minidom\n",
    "\n",
    "\n",
    "DOWNLOADS = '/home/thiago/Downloads/'\n",
    "BRONZE_LAYER = 'bronze'\n",
    "\n",
    "minioclient = Minio('localhost:9000',\n",
    "    access_key='minioadmin',\n",
    "    secret_key='minioadmin',\n",
    "    secure=False)"
   ]
  },
  {
   "cell_type": "code",
   "execution_count": null,
   "metadata": {},
   "outputs": [],
   "source": [
    "info_rota = []\n",
    "arquivos_rotas_gpx = [arquivo_gpx for arquivo_gpx in minioclient.list_objects(BRONZE_LAYER) if arquivo_gpx.object_name.endswith(\".gpx\")]"
   ]
  },
  {
   "cell_type": "code",
   "execution_count": null,
   "metadata": {},
   "outputs": [],
   "source": [
    "for arquivo_rota_gpx in arquivos_rotas_gpx:    \n",
    "    try:\n",
    "        blob_rota_gpx = minioclient.get_object(BRONZE_LAYER, arquivo_rota_gpx.object_name)\n",
    "        rota_gpx = blob_rota_gpx.data\n",
    "        rota_gpx = rota_gpx.decode(\"ISO-8859-1\")\n",
    "        try:\n",
    "            gpx = gpxpy.parse(rota_gpx)\n",
    "        \n",
    "            for track in gpx.tracks:\n",
    "                for segment in track.segments:\n",
    "                    for point in segment.points:\n",
    "                        info_rota.append({\n",
    "                        'latitude': point.latitude,\n",
    "                        'longitude': point.longitude,\n",
    "                        'elevacao' : point.elevation,\n",
    "                        'time_point' : point.time})\n",
    "    \n",
    "        except gpxpy.gpx.GPXXMLSyntaxException as e:\n",
    "            print(f\"Erro de sintaxe XML no arquivo {arquivo_rota_gpx.object_name}: {e}\")\n",
    "    except S3Error as e:\n",
    "        print(f\"Erro ao acessar o objeto: {e}\")    "
   ]
  },
  {
   "cell_type": "code",
   "execution_count": null,
   "metadata": {},
   "outputs": [],
   "source": [
    "info_rota"
   ]
  },
  {
   "cell_type": "code",
   "execution_count": null,
   "metadata": {},
   "outputs": [],
   "source": [
    "type(rota_gpx)"
   ]
  },
  {
   "cell_type": "code",
   "execution_count": null,
   "metadata": {},
   "outputs": [],
   "source": [
    "# pip install pyspark\n",
    "# from pyspark.sql import SparkSession\n",
    "# spark = SparkSession.builder.appName('tcc-project').getOrCreate()"
   ]
  },
  {
   "cell_type": "code",
   "execution_count": null,
   "metadata": {},
   "outputs": [],
   "source": [
    "type(gpx)\n",
    "# Para retornar a quantidade de pontos (lat+lon+ele) em um arquivo arquivo '.gpx' podemos usar get\n",
    "# Documentação: https://pypi.org/project/gpxpy/\n",
    "gpx.get_track_points_no()\n",
    "\n",
    "# Para retornar a faixa de altitude, a fim de se obter extremos de maior elevação e menor elevação no trajeto percorrido - os valores apresentados são em metros acima do nível do mar\n",
    "gpx.get_elevation_extremes()\n",
    "\n",
    "# Não endendi para que isso serve\n",
    "gpx.get_uphill_downhill()\n",
    "\n",
    "\n",
    "# Obtendo o nome do criador da rota\n",
    "creator = gpx.creator\n",
    "creator\n",
    "\n",
    "\n",
    "# Para exibir o conteudo do arquivo .gpx em formato xml\n",
    "print(gpx.to_xml()[:1000])\n",
    "\n",
    "\n",
    "# É possivel verificar quantas rotas/trilhas nosso arquivo .gpx possui\n",
    "len(gpx.tracks)\n",
    "\n",
    "\n",
    "# Como no nosso exemplo acima só temos 1 rota/trilha efetuada, podemos acessar por meio de indice no python, \n",
    "# Nesse caso se passa o valor [0] para ter uma precisão exata da rota em que estamos trabalhando\n",
    "gpx.tracks[0]\n",
    "\n",
    "\n",
    "# Agora vamos acessar os segmentos da nossa rota/trilha\n",
    "gpx.tracks[0].segments[0]\n",
    "\n",
    "\n",
    "\n",
    "# Agora podemos acessar os pontos de dados individuais dentro do nosso gpx acessando a matriz de pontos\n",
    "gpx.tracks[0].segments[0].points[:10]\n",
    "\n",
    "\n",
    "\n",
    "\n",
    "info_rota = []\n",
    "for track in gpx.tracks:\n",
    "    for segment in track.segments:\n",
    "        for point in segment.points:\n",
    "            info_rota.append({\n",
    "                'latitude': point.latitude,\n",
    "                'longitude': point.longitude,\n",
    "                'elevacao' : point.elevation,\n",
    "                'time_point' : point.time\n",
    "            })\n",
    "\n",
    "\n",
    "\n",
    "\n",
    "\n",
    "\n",
    "info_rota[:3]\n",
    "\n",
    "\n",
    "info_rota_df = pd.DataFrame(info_rota)\n",
    "info_rota_df.head()\n",
    "\n",
    "\n",
    "\n",
    "\n",
    "\n",
    "info_rota_df.to_csv('info_rota.csv', index=False)\n",
    "\n",
    "\n",
    "\n",
    "\n",
    "\n",
    "\n",
    "# <creator> contem o nome do cara que está se deslocando\n",
    "# existe uma <trkpt> acredito q seja um track point\n",
    "# <name> contem uma da e hora. Acredito que seja a hora do envio do arquivo gpx\n",
    "# <trkpt> é um bloco com lat - lon - internamente tem um <ele> de elevação e um <time> que acredito ser o horario que o cliente estava no ponto lat+long+ele"
   ]
  },
  {
   "cell_type": "code",
   "execution_count": null,
   "metadata": {},
   "outputs": [],
   "source": []
  },
  {
   "cell_type": "code",
   "execution_count": null,
   "metadata": {},
   "outputs": [],
   "source": []
  },
  {
   "cell_type": "code",
   "execution_count": null,
   "metadata": {},
   "outputs": [],
   "source": []
  },
  {
   "cell_type": "markdown",
   "metadata": {},
   "source": [
    "## Os arquivos que serão movidos da pasta Download para o MINIO_DATA_LAKE precisam estar transformados em Parquet e CSV."
   ]
  },
  {
   "cell_type": "code",
   "execution_count": null,
   "metadata": {},
   "outputs": [],
   "source": [
    "# pip install minio\n",
    "import os\n",
    "from minio import Minio\n",
    "from minio.error import S3Error\n",
    "BRONZE_LAYER = 'bronze'\n",
    "\n",
    "minioclient = Minio('localhost:9000',\n",
    "    access_key='minioadmin',\n",
    "    secret_key='minioadmin',\n",
    "    secure=False)\n",
    "#print(minioclient.list_buckets())\n",
    "#print(\"Quantidade de Buckets\", len(minioclient.list_buckets()))"
   ]
  },
  {
   "cell_type": "code",
   "execution_count": null,
   "metadata": {},
   "outputs": [],
   "source": [
    "## Aqui os arquivos com a extensão .gpx saem da pasta Download para o bucket MinIO\n",
    "files_to_datalake = [files for files in os.listdir(PRE_PROCESSING) if files.endswith(\".gpx\")]\n",
    "for name_file in files_to_datalake:\n",
    "    local_path = os.path.join(DOWNLOADS, name_file)    \n",
    "    if os.path.isfile(local_path):\n",
    "        try:\n",
    "            minioclient.fput_object(BRONZE_LAYER, name_file, local_path)\n",
    "            print(f\"Arquivo {name_file} enviado com sucesso para o bucket.\")\n",
    "            os.remove(local_path) # --> Após o envio bem sucedido para o bucket o arquivo é excluído da pasta download\n",
    "        except S3Error as e:\n",
    "            print(f\"Erro ao enviar o arquivo: {name_file} -> Erro: {e}\")          "
   ]
  },
  {
   "cell_type": "markdown",
   "metadata": {},
   "source": [
    "## Códigos não mais usados"
   ]
  },
  {
   "cell_type": "code",
   "execution_count": null,
   "metadata": {},
   "outputs": [],
   "source": [
    "## Aqui os arquivos saem da pasta download para a pasta DATALAKE_STAGE\n",
    "\n",
    "# files_to_move = [files for files in os.listdir(DOWNLOADS) if files.endswith(\".gpx\")]\n",
    "# for name_files in files_to_move:\n",
    "#     origin_path = os.path.join(DOWNLOADS, name_files)\n",
    "#     destiny_path = os.path.join(DATALAKE_STAGE, name_files)\n",
    "#     os.rename(origin_path, destiny_path)\n",
    "#     print(f\"Arquivo {name_files} movido para {destiny_path}\")"
   ]
  },
  {
   "cell_type": "code",
   "execution_count": null,
   "metadata": {},
   "outputs": [],
   "source": [
    "## Aqui os arquivos saem da pasta DATALAKE_STAGE para o bucket MinIO\n",
    "\n",
    "# for item in os.listdir(DATALAKE_STAGE):\n",
    "#     local_path = os.path.join(DATALAKE_STAGE, item)\n",
    "#     print(local_path)\n",
    "# \n",
    "#     if os.path.isfile(local_path):\n",
    "#         try:\n",
    "#             minioclient.fput_object(DATA_LAKE, item, local_path)\n",
    "#             print(f\"Arquivo {item} enviado com sucesso para o bucket.\")\n",
    "#         except S3Error as err:\n",
    "#             print(f\"Erro ao enviar o arquivo {item}: {err}\")"
   ]
  },
  {
   "cell_type": "code",
   "execution_count": null,
   "metadata": {},
   "outputs": [],
   "source": [
    "# ## DADOS PARA INSERIR NA TABELA DE CONTROLE USANDO O BEAUTIFULSOAP ## #\n",
    "# navegador = requests.get('https://www.openstreetmap.org/user/sunnypilot/traces/9255974')\n",
    "# site = BeautifulSoup(navegador.text, 'html.parser')\n",
    "# data_trace = site.find('div', attrs={'class': 'content-body'})\n",
    "# table_trace = data_trace.find('table')\n",
    "# \n",
    "# filename_row = table_trace.find('th', string='Filename:').parent\n",
    "# owner_row = table_trace.find('th', string='Owner:').parent\n",
    "# uploaded_row = table_trace.find('th', string='Uploaded:').parent\n",
    "# \n",
    "# filename = filename_row.find('td').text.strip().replace('(download)','').strip()\n",
    "# owner = owner_row.find('td').text.strip()\n",
    "# uploaded = uploaded_row.find('td').text.strip()"
   ]
  },
  {
   "cell_type": "code",
   "execution_count": null,
   "metadata": {},
   "outputs": [],
   "source": [
    "# ## ESTE TRECHO TEM A FINALIDADE DE BAIXAR OS ARQUIVOS ## #\n",
    "#list_finished_routes\n",
    "#list_pending_routes\n",
    "\n",
    "# //*[@id=\"content\"]/div[2]/div/table/tbody/tr[6]/td - finalizado\n",
    "# //*[@id=\"content\"]/div[2]/div/span = PENDENTE\n",
    "# //*[@id=\"content\"]/div[2]/div/table/tbody/tr[4]/td - pendente\n",
    "\n",
    "# ## Trecho descontinuado -- Quando usa [requests.get] estamos usando o BeautifulSoup - e quando usamos só o [.get] estamos usando o selenium\n",
    "# navegador = webdriver.Chrome(service=servico)\n",
    "# for list_route in list_routes:\n",
    "#     sleep(3)\n",
    "#     url = list_route[0]\n",
    "#     navegador.get(url)  #--> Exemplo onde usamos o Selenium somente com o [.get]\n",
    "#     navegador.find_element('xpath','//*[@id=\"content\"]/div[2]/div/table/tbody/tr[1]/td/a').click()\n",
    "# navegador.close()"
   ]
  }
 ],
 "metadata": {
  "kernelspec": {
   "display_name": "venv",
   "language": "python",
   "name": "python3"
  },
  "language_info": {
   "codemirror_mode": {
    "name": "ipython",
    "version": 3
   },
   "file_extension": ".py",
   "mimetype": "text/x-python",
   "name": "python",
   "nbconvert_exporter": "python",
   "pygments_lexer": "ipython3",
   "version": "3.10.12"
  },
  "orig_nbformat": 4
 },
 "nbformat": 4,
 "nbformat_minor": 2
}

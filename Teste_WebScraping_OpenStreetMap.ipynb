{
 "cells": [
  {
   "cell_type": "markdown",
   "metadata": {},
   "source": [
    "### Importação das bibliotecas necessárias para a raspagem de dados."
   ]
  },
  {
   "cell_type": "code",
   "execution_count": 35,
   "metadata": {},
   "outputs": [],
   "source": [
    "# pip install selenium\n",
    "# pip install webdriver-manager\n",
    "# pip install BeautifulSoup4\n",
    "\n",
    "from selenium import webdriver\n",
    "from webdriver_manager.chrome import ChromeDriverManager\n",
    "from selenium.webdriver.chrome.service import Service\n",
    "import time\n",
    "from bs4 import BeautifulSoup\n",
    "servico = Service(ChromeDriverManager().install())\n",
    "import re\n",
    "import os\n",
    "\n",
    "# from selenium.webdriver.chrome.options import Options\n",
    "# import requests\n",
    "# options = Options()\n",
    "# options.add_argument('--headless') #--> Parâmetro adicional onde é possivel realizar o webscrapping sem abrir o navegador.\n",
    "# options.add_argument('window-size=400,800') #--> Parâmetro adicional onde é possivel escolher o tamanho da tela aberta no navegador. Nesse exemplo o tamanho 400x800 é como se estivesse aberto em um celular.\n",
    "\n",
    "URL_OPEN_STREET_MAP_TRACES = 'https://www.openstreetmap.org/traces' #--> Página do OpenstreetMap onde estão localizadas as rotas para download.\n",
    "PREFIX_URL_DOWNLOAD = 'https://www.openstreetmap.org' #--> Página do principal do OpenstreetMap. Esta variável será utilizada para montar a URL das páginas de download.\n",
    "DOWNLOADS = '/home/thiago/Downloads/'\n",
    "PRE_PROCESSING = '/home/thiago/tcc_ufrj/PRE_PROCESSING'"
   ]
  },
  {
   "cell_type": "markdown",
   "metadata": {},
   "source": [
    "## Acessando o site Open Street Map e capturando as rotas pendentes e as rotas finalizadas."
   ]
  },
  {
   "cell_type": "code",
   "execution_count": null,
   "metadata": {},
   "outputs": [],
   "source": [
    "# navegador = webdriver.Chrome(service=servico, options=options) #--> Aplicando as opções acima mencionadas no navegador.\n",
    "\n",
    "navegador = webdriver.Chrome(service=servico)\n",
    "navegador.get(URL_OPEN_STREET_MAP_TRACES)\n",
    "\n",
    "page_content = navegador.page_source\n",
    "site = BeautifulSoup(page_content, 'html.parser')\n",
    "routes = site.findAll('tr')\n",
    "\n",
    "list_pending_routes = []\n",
    "list_finished_routes = []\n",
    "list_routes = []\n",
    "\n",
    "for route in routes:\n",
    "    if route.find('span', attrs={'class': 'text-danger'}):\n",
    "        pending_routes = route.find('span', attrs={'class': 'text-danger'})    \n",
    "        pending_link_routes = route.find('a')        \n",
    "        list_routes.append([PREFIX_URL_DOWNLOAD+pending_link_routes['href']])\n",
    "        # list_pending_routes.append([PREFIX_URL_DOWNLOAD+pending_link_routes['href']])\n",
    "        print (f\"{pending_routes.text}: {PREFIX_URL_DOWNLOAD+pending_link_routes['href']}\")\n",
    "\n",
    "    else:         \n",
    "        finished_link_routes = route.find('a')        \n",
    "        list_routes.append([PREFIX_URL_DOWNLOAD+finished_link_routes['href']])\n",
    "        # list_finished_routes.append([PREFIX_URL_DOWNLOAD+finished_link_routes['href']])\n",
    "        print(f\"FINISHED: {PREFIX_URL_DOWNLOAD+finished_link_routes['href']}\")\n",
    "time.sleep(3)\n",
    "navegador.close()\n",
    "\n",
    "#len(list_pending_routes) #--> Verificando a quantidade de registros na lista de rotas pendentes\n",
    "#len(list_finished_routes) #--> Verificando a quantidade de registros na lista de rotas pendentes"
   ]
  },
  {
   "cell_type": "markdown",
   "metadata": {},
   "source": [
    "## Acessando a telas para efetuar os downloads - Renomeando os arquivo adicionando o nome dos usuários - Movendo para a pasta PRE_PROCESSING"
   ]
  },
  {
   "cell_type": "code",
   "execution_count": null,
   "metadata": {},
   "outputs": [],
   "source": [
    "navegador = webdriver.Chrome(service=servico)\n",
    "users = []\n",
    "for list_route in list_routes:\n",
    "    time.sleep(3)\n",
    "    url = list_route[0]\n",
    "    navegador.get(url) #--> Exemplo onde usamos o Selenium somente com o [.get]\n",
    "\n",
    "    user_page_content = navegador.page_source\n",
    "    site_user = BeautifulSoup(user_page_content, 'html.parser')\n",
    "\n",
    "    if any(td.find('span', attrs={'class': 'text-danger'}) for td in site_user):\n",
    "        tb_user_name = navegador.find_element('xpath', '//*[@id=\"content\"]/div[2]/div/table/tbody/tr[4]/td')\n",
    "        user_name = tb_user_name.text\n",
    "        user_name = re.sub(r'\\s|\\.|\\(|\\)','_',user_name)        \n",
    "        print(f'Rota PENDENTE: {list_route} Usuário: {user_name}')\n",
    "        navegador.find_element('xpath','//*[@id=\"content\"]/div[2]/div/table/tbody/tr[1]/td/a').click()\n",
    "        users.append(user_name)\n",
    "\n",
    "    else:\n",
    "        tb_user_name = navegador.find_element('xpath', '//*[@id=\"content\"]/div[2]/div/table/tbody/tr[6]/td')\n",
    "        user_name = tb_user_name.text\n",
    "        user_name = re.sub(r'\\s|\\.|\\(|\\)','_',user_name)\n",
    "        print(f'Rota FINALIZADA: {list_route} Usuário: {user_name}')\n",
    "        navegador.find_element('xpath','//*[@id=\"content\"]/div[2]/div/table/tbody/tr[1]/td/a').click()\n",
    "        users.append(user_name)\n",
    "time.sleep(3)\n",
    "navegador.close()"
   ]
  },
  {
   "cell_type": "code",
   "execution_count": null,
   "metadata": {},
   "outputs": [],
   "source": [
    "## Corrigindo o nome dos arquivos conforme seus usuários\n",
    "files_to_rename = [arquivo for arquivo in os.listdir(DOWNLOADS) if arquivo.endswith(\".crdownload\")]\n",
    "for file_name in files_to_rename:\n",
    "        new_name = file_name.replace(\".crdownload\", \"\")\n",
    "        os.rename(os.path.join(DOWNLOADS, file_name), os.path.join(DOWNLOADS, new_name))\n",
    "\n",
    "files_to_rename_gpx = sorted([arquivo for arquivo in os.listdir(DOWNLOADS) if arquivo.endswith(\".gpx\")], reverse=True)\n",
    "files_to_rename_gpx\n",
    "\n",
    "for user, file_to_rename_gpx in zip(users, files_to_rename_gpx):\n",
    "    if os.listdir(DOWNLOADS):\n",
    "        old_path = os.path.join(DOWNLOADS, file_to_rename_gpx)        \n",
    "        new_name = f\"{file_to_rename_gpx.replace('.gpx', '')}__{user}.gpx\"        \n",
    "        new_path = os.path.join(DOWNLOADS,new_name)        \n",
    "        #print(new_path)\n",
    "        os.rename(old_path, new_path)"
   ]
  },
  {
   "cell_type": "code",
   "execution_count": null,
   "metadata": {},
   "outputs": [],
   "source": [
    "# Movendo os arquivos para a pasta PRE_PROCESSING\n",
    "time.sleep(3)\n",
    "files_to_move_pre_processing = [arquivo for arquivo in os.listdir(DOWNLOADS) if arquivo.endswith(\".gpx\")]\n",
    "for file_to_move_pre_processing in files_to_move_pre_processing:\n",
    "    src_path = os.path.join(DOWNLOADS, file_to_move_pre_processing)\n",
    "    dest_path = os.path.join(PRE_PROCESSING, file_to_move_pre_processing)\n",
    "    try:\n",
    "        os.rename(src_path,dest_path)\n",
    "        print(f\"Arquivo '{file_to_move_pre_processing}' movido para a pasta {PRE_PROCESSING}.\")\n",
    "    except Exception as e:\n",
    "        print(f\"Erro ao mover o arquivo: '{file_to_move_pre_processing}': {e}.\")"
   ]
  },
  {
   "cell_type": "markdown",
   "metadata": {},
   "source": [
    "## Executando de uma só vez - Entendo que essa execução deve se dar de uma única vez, pois pode haver alguma falha no momento de renomear os arquivos"
   ]
  },
  {
   "cell_type": "code",
   "execution_count": 29,
   "metadata": {},
   "outputs": [
    {
     "name": "stdout",
     "output_type": "stream",
     "text": [
      "PENDING: https://www.openstreetmap.org/user/sunnypilot/traces/9690926\n",
      "PENDING: https://www.openstreetmap.org/user/sunnypilot/traces/9690925\n",
      "PENDING: https://www.openstreetmap.org/user/dragonpilot/traces/9690924\n",
      "FINISHED: https://www.openstreetmap.org/user/dragonpilot/traces/9690922\n",
      "FINISHED: https://www.openstreetmap.org/user/dragonpilot/traces/9690921\n",
      "FINISHED: https://www.openstreetmap.org/user/dragonpilot/traces/9690920\n",
      "FINISHED: https://www.openstreetmap.org/user/sunnypilot/traces/9690919\n",
      "FINISHED: https://www.openstreetmap.org/user/dragonpilot/traces/9690918\n",
      "FINISHED: https://www.openstreetmap.org/user/sunnypilot/traces/9690917\n",
      "FINISHED: https://www.openstreetmap.org/user/dragonpilot/traces/9690915\n",
      "FINISHED: https://www.openstreetmap.org/user/dragonpilot/traces/9690914\n",
      "FINISHED: https://www.openstreetmap.org/user/dragonpilot/traces/9690913\n",
      "FINISHED: https://www.openstreetmap.org/user/Iago/traces/9690912\n",
      "FINISHED: https://www.openstreetmap.org/user/sunnypilot/traces/9690911\n",
      "FINISHED: https://www.openstreetmap.org/user/dragonpilot/traces/9690909\n",
      "FINISHED: https://www.openstreetmap.org/user/dragonpilot/traces/9690908\n",
      "FINISHED: https://www.openstreetmap.org/user/dragonpilot/traces/9690907\n",
      "FINISHED: https://www.openstreetmap.org/user/dragonpilot/traces/9690906\n",
      "FINISHED: https://www.openstreetmap.org/user/dragonpilot/traces/9690905\n",
      "FINISHED: https://www.openstreetmap.org/user/dragonpilot/traces/9690904\n",
      "Rota PENDENTE: ['https://www.openstreetmap.org/user/sunnypilot/traces/9690926'] Usuário: Routes_from_sunnypilot_0_9_4_1-release__HYUNDAI_IONIQ_5_2022__\n",
      "Rota PENDENTE: ['https://www.openstreetmap.org/user/sunnypilot/traces/9690925'] Usuário: Routes_from_sunnypilot_0_9_4_1-release__HYUNDAI_IONIQ_5_2022__\n",
      "Rota FINALIZADA: ['https://www.openstreetmap.org/user/dragonpilot/traces/9690924'] Usuário: Routes_from_top_0_9_4_Release_-_2023_07_28__TOYOTA_PRIUS_v_2017__\n",
      "Rota FINALIZADA: ['https://www.openstreetmap.org/user/dragonpilot/traces/9690922'] Usuário: Routes_from_dragonpilot_2023_07_05__TOYOTA_COROLLA_HYBRID_TSS2_2019__\n",
      "Rota FINALIZADA: ['https://www.openstreetmap.org/user/dragonpilot/traces/9690921'] Usuário: Routes_from_top_0_9_4_-_2023_07_05__TOYOTA_COROLLA_HYBRID_TSS2_2019__\n",
      "Rota FINALIZADA: ['https://www.openstreetmap.org/user/dragonpilot/traces/9690920'] Usuário: Routes_from_dragonpilot_2023_07_05__TOYOTA_COROLLA_TSS2_2019__\n",
      "Rota FINALIZADA: ['https://www.openstreetmap.org/user/sunnypilot/traces/9690919'] Usuário: Routes_from_sunnypilot_0_9_4_1-release__HYUNDAI_IONIQ_5_2022__\n",
      "Rota FINALIZADA: ['https://www.openstreetmap.org/user/dragonpilot/traces/9690918'] Usuário: Routes_from_dragonpilot_2023_07_05__TOYOTA_COROLLA_HYBRID_TSS2_2019__\n",
      "Rota FINALIZADA: ['https://www.openstreetmap.org/user/sunnypilot/traces/9690917'] Usuário: Routes_from_sunnypilot_0_9_4_1-release__KIA_EV6_2022__\n",
      "Rota FINALIZADA: ['https://www.openstreetmap.org/user/dragonpilot/traces/9690915'] Usuário: Routes_from_top_0_9_4_-_2023_07_05__TOYOTA_PRIUS_v_2017__\n",
      "Rota FINALIZADA: ['https://www.openstreetmap.org/user/dragonpilot/traces/9690914'] Usuário: Routes_from_top_0_9_4_-_2023_07_05__TOYOTA_COROLLA_HYBRID_TSS2_2019__\n",
      "Rota FINALIZADA: ['https://www.openstreetmap.org/user/dragonpilot/traces/9690913'] Usuário: Routes_from_dragonpilot_2023_08_15__HONDA_HR-V_2023__\n",
      "Rota FINALIZADA: ['https://www.openstreetmap.org/user/Iago/traces/9690912'] Usuário: 2023-08-25_11-34_Fri\n",
      "Rota FINALIZADA: ['https://www.openstreetmap.org/user/sunnypilot/traces/9690911'] Usuário: Routes_from_sunnypilot_0_9_3_1-release__TOYOTA_RAV4_2019__\n",
      "Rota FINALIZADA: ['https://www.openstreetmap.org/user/dragonpilot/traces/9690909'] Usuário: Routes_from_dragonpilot_2023_07_05__TOYOTA_COROLLA_HYBRID_TSS2_2019__\n",
      "Rota FINALIZADA: ['https://www.openstreetmap.org/user/dragonpilot/traces/9690908'] Usuário: Routes_from_top_0_9_4_Release_-_2023_07_28__TOYOTA_PRIUS_2017__\n",
      "Rota FINALIZADA: ['https://www.openstreetmap.org/user/dragonpilot/traces/9690907'] Usuário: Routes_from_top_0_9_4_-_2023_07_05__TOYOTA_COROLLA_HYBRID_TSS2_2019__\n",
      "Rota FINALIZADA: ['https://www.openstreetmap.org/user/dragonpilot/traces/9690906'] Usuário: Routes_from_dragonpilot_2023_07_05__TOYOTA_COROLLA_TSS2_2019__\n",
      "Rota FINALIZADA: ['https://www.openstreetmap.org/user/dragonpilot/traces/9690905'] Usuário: Routes_from_dragonpilot_2023_07_05__TOYOTA_COROLLA_TSS2_2019__\n",
      "Rota FINALIZADA: ['https://www.openstreetmap.org/user/dragonpilot/traces/9690904'] Usuário: Routes_from_dragonpilot_2023_07_05__TOYOTA_COROLLA_TSS2_2019__\n",
      "Arquivo '9690925__Routes_from_sunnypilot_0_9_4_1-release__HYUNDAI_IONIQ_5_2022__.gpx' movido para a pasta /home/thiago/tcc_ufrj/PRE_PROCESSING.\n",
      "Arquivo '9690917__Routes_from_sunnypilot_0_9_4_1-release__KIA_EV6_2022__.gpx' movido para a pasta /home/thiago/tcc_ufrj/PRE_PROCESSING.\n",
      "Arquivo '9690906__Routes_from_top_0_9_4_-_2023_07_05__TOYOTA_COROLLA_HYBRID_TSS2_2019__.gpx' movido para a pasta /home/thiago/tcc_ufrj/PRE_PROCESSING.\n",
      "Arquivo '9690926__Routes_from_sunnypilot_0_9_4_1-release__HYUNDAI_IONIQ_5_2022__.gpx' movido para a pasta /home/thiago/tcc_ufrj/PRE_PROCESSING.\n",
      "Arquivo '9690922__Routes_from_dragonpilot_2023_07_05__TOYOTA_COROLLA_HYBRID_TSS2_2019__.gpx' movido para a pasta /home/thiago/tcc_ufrj/PRE_PROCESSING.\n",
      "Arquivo '9690905__Routes_from_dragonpilot_2023_07_05__TOYOTA_COROLLA_TSS2_2019__.gpx' movido para a pasta /home/thiago/tcc_ufrj/PRE_PROCESSING.\n",
      "Arquivo '9690907__Routes_from_top_0_9_4_Release_-_2023_07_28__TOYOTA_PRIUS_2017__.gpx' movido para a pasta /home/thiago/tcc_ufrj/PRE_PROCESSING.\n",
      "Arquivo '9690909__Routes_from_sunnypilot_0_9_3_1-release__TOYOTA_RAV4_2019__.gpx' movido para a pasta /home/thiago/tcc_ufrj/PRE_PROCESSING.\n",
      "Arquivo '9690914__Routes_from_top_0_9_4_-_2023_07_05__TOYOTA_COROLLA_HYBRID_TSS2_2019__.gpx' movido para a pasta /home/thiago/tcc_ufrj/PRE_PROCESSING.\n",
      "Arquivo '9690924__Routes_from_top_0_9_4_Release_-_2023_07_28__TOYOTA_PRIUS_v_2017__.gpx' movido para a pasta /home/thiago/tcc_ufrj/PRE_PROCESSING.\n",
      "Arquivo '9690919__Routes_from_sunnypilot_0_9_4_1-release__HYUNDAI_IONIQ_5_2022__.gpx' movido para a pasta /home/thiago/tcc_ufrj/PRE_PROCESSING.\n",
      "Arquivo '9690918__Routes_from_dragonpilot_2023_07_05__TOYOTA_COROLLA_HYBRID_TSS2_2019__.gpx' movido para a pasta /home/thiago/tcc_ufrj/PRE_PROCESSING.\n",
      "Arquivo '9690920__Routes_from_dragonpilot_2023_07_05__TOYOTA_COROLLA_TSS2_2019__.gpx' movido para a pasta /home/thiago/tcc_ufrj/PRE_PROCESSING.\n",
      "Arquivo '9690921__Routes_from_top_0_9_4_-_2023_07_05__TOYOTA_COROLLA_HYBRID_TSS2_2019__.gpx' movido para a pasta /home/thiago/tcc_ufrj/PRE_PROCESSING.\n",
      "Arquivo '9690908__Routes_from_dragonpilot_2023_07_05__TOYOTA_COROLLA_HYBRID_TSS2_2019__.gpx' movido para a pasta /home/thiago/tcc_ufrj/PRE_PROCESSING.\n",
      "Arquivo '9690913__Routes_from_dragonpilot_2023_08_15__HONDA_HR-V_2023__.gpx' movido para a pasta /home/thiago/tcc_ufrj/PRE_PROCESSING.\n",
      "Arquivo '9690904__Routes_from_dragonpilot_2023_07_05__TOYOTA_COROLLA_TSS2_2019__.gpx' movido para a pasta /home/thiago/tcc_ufrj/PRE_PROCESSING.\n",
      "Arquivo '9690911__2023-08-25_11-34_Fri.gpx' movido para a pasta /home/thiago/tcc_ufrj/PRE_PROCESSING.\n",
      "Arquivo '9690915__Routes_from_top_0_9_4_-_2023_07_05__TOYOTA_PRIUS_v_2017__.gpx' movido para a pasta /home/thiago/tcc_ufrj/PRE_PROCESSING.\n"
     ]
    }
   ],
   "source": [
    "# pip install selenium\n",
    "# pip install webdriver-manager\n",
    "# pip install BeautifulSoup4\n",
    "\n",
    "from selenium import webdriver\n",
    "from webdriver_manager.chrome import ChromeDriverManager\n",
    "from selenium.webdriver.chrome.service import Service\n",
    "import time\n",
    "from bs4 import BeautifulSoup\n",
    "servico = Service(ChromeDriverManager().install())\n",
    "import re\n",
    "import os\n",
    "\n",
    "# from selenium.webdriver.chrome.options import Options\n",
    "# import requests\n",
    "# options = Options()\n",
    "# options.add_argument('--headless') #--> Parâmetro adicional onde é possivel realizar o webscrapping sem abrir o navegador.\n",
    "# options.add_argument('window-size=400,800') #--> Parâmetro adicional onde é possivel escolher o tamanho da tela aberta no navegador. Nesse exemplo o tamanho 400x800 é como se estivesse aberto em um celular.\n",
    "# navegador = webdriver.Chrome(service=servico, options=options) #--> Aplicando as opções acima mencionadas no navegador.\n",
    "\n",
    "URL_OPEN_STREET_MAP_TRACES = 'https://www.openstreetmap.org/traces' #--> Página do OpenstreetMap onde estão localizadas as rotas para download.\n",
    "PREFIX_URL_DOWNLOAD = 'https://www.openstreetmap.org' #--> Página do principal do OpenstreetMap. Esta variável será utilizada para montar a URL das páginas de download.\n",
    "DOWNLOADS = '/home/thiago/Downloads/'\n",
    "PRE_PROCESSING = '/home/thiago/tcc_ufrj/PRE_PROCESSING'\n",
    "\n",
    "navegador = webdriver.Chrome(service=servico)\n",
    "navegador.get(URL_OPEN_STREET_MAP_TRACES)\n",
    "\n",
    "page_content = navegador.page_source\n",
    "site = BeautifulSoup(page_content, 'html.parser')\n",
    "routes = site.findAll('tr')\n",
    "\n",
    "list_pending_routes = []\n",
    "list_finished_routes = []\n",
    "list_routes = []\n",
    "\n",
    "for route in routes:\n",
    "    if route.find('span', attrs={'class': 'text-danger'}):\n",
    "        pending_routes = route.find('span', attrs={'class': 'text-danger'})    \n",
    "        pending_link_routes = route.find('a')        \n",
    "        list_routes.append([PREFIX_URL_DOWNLOAD+pending_link_routes['href']])\n",
    "        # list_pending_routes.append([PREFIX_URL_DOWNLOAD+pending_link_routes['href']])\n",
    "        print (f\"{pending_routes.text}: {PREFIX_URL_DOWNLOAD+pending_link_routes['href']}\")\n",
    "\n",
    "    else:         \n",
    "        finished_link_routes = route.find('a')        \n",
    "        list_routes.append([PREFIX_URL_DOWNLOAD+finished_link_routes['href']])\n",
    "        # list_finished_routes.append([PREFIX_URL_DOWNLOAD+finished_link_routes['href']])\n",
    "        print(f\"FINISHED: {PREFIX_URL_DOWNLOAD+finished_link_routes['href']}\")\n",
    "time.sleep(3)\n",
    "navegador.close()\n",
    "\n",
    "#len(list_pending_routes) #--> Verificando a quantidade de registros na lista de rotas pendentes\n",
    "#len(list_finished_routes) #--> Verificando a quantidade de registros na lista de rotas pendentes\n",
    "\n",
    "## Quando usa [requests.get] estamos usando o BeautifulSoup - e quando usamos só o [.get] estamos usando o selenium\n",
    "#navegador = webdriver.Chrome(service=servico)\n",
    "\n",
    "\n",
    "## Baixando os arquivos \n",
    "navegador = webdriver.Chrome(service=servico)\n",
    "users = []\n",
    "for list_route in list_routes:\n",
    "    time.sleep(3)\n",
    "    url = list_route[0]\n",
    "    navegador.get(url) #--> Exemplo onde usamos o Selenium somente com o [.get]\n",
    "\n",
    "    user_page_content = navegador.page_source\n",
    "    site_user = BeautifulSoup(user_page_content, 'html.parser')\n",
    "\n",
    "    if any(td.find('span', attrs={'class': 'text-danger'}) for td in site_user):\n",
    "        tb_user_name = navegador.find_element('xpath', '//*[@id=\"content\"]/div[2]/div/table/tbody/tr[4]/td')\n",
    "        user_name = tb_user_name.text\n",
    "        user_name = re.sub(r'\\s|\\.|\\(|\\)','_',user_name)        \n",
    "        print(f'Rota PENDENTE: {list_route} Usuário: {user_name}')\n",
    "        navegador.find_element('xpath','//*[@id=\"content\"]/div[2]/div/table/tbody/tr[1]/td/a').click()\n",
    "        users.append(user_name)\n",
    "\n",
    "    else:\n",
    "        tb_user_name = navegador.find_element('xpath', '//*[@id=\"content\"]/div[2]/div/table/tbody/tr[6]/td')\n",
    "        user_name = tb_user_name.text\n",
    "        user_name = re.sub(r'\\s|\\.|\\(|\\)','_',user_name)\n",
    "        print(f'Rota FINALIZADA: {list_route} Usuário: {user_name}')\n",
    "        navegador.find_element('xpath','//*[@id=\"content\"]/div[2]/div/table/tbody/tr[1]/td/a').click()\n",
    "        users.append(user_name)\n",
    "time.sleep(3)\n",
    "navegador.close()\n",
    "\n",
    "\n",
    "## Corrigindo o nome dos arquivos conforme seus usuários\n",
    "files_to_rename = [arquivo for arquivo in os.listdir(DOWNLOADS) if arquivo.endswith(\".crdownload\")]\n",
    "for file_name in files_to_rename:\n",
    "        new_name = file_name.replace(\".crdownload\", \"\")\n",
    "        os.rename(os.path.join(DOWNLOADS, file_name), os.path.join(DOWNLOADS, new_name))\n",
    "\n",
    "files_to_rename_gpx = sorted([arquivo for arquivo in os.listdir(DOWNLOADS) if arquivo.endswith(\".gpx\")], reverse=True)\n",
    "files_to_rename_gpx\n",
    "\n",
    "for user, file_to_rename_gpx in zip(users, files_to_rename_gpx):\n",
    "    if os.listdir(DOWNLOADS):\n",
    "        old_path = os.path.join(DOWNLOADS, file_to_rename_gpx)        \n",
    "        new_name = f\"{file_to_rename_gpx.replace('.gpx', '')}__{user}.gpx\"        \n",
    "        new_path = os.path.join(DOWNLOADS,new_name)        \n",
    "        #print(new_path)\n",
    "        os.rename(old_path, new_path)\n",
    "\n",
    "\n",
    "# Movendo os arquivos para a pasta PRE_PROCESSING\n",
    "time.sleep(3)\n",
    "files_to_move_pre_processing = [arquivo for arquivo in os.listdir(DOWNLOADS) if arquivo.endswith(\".gpx\")]\n",
    "for file_to_move_pre_processing in files_to_move_pre_processing:\n",
    "    src_path = os.path.join(DOWNLOADS, file_to_move_pre_processing)\n",
    "    dest_path = os.path.join(PRE_PROCESSING, file_to_move_pre_processing)\n",
    "    try:\n",
    "        os.rename(src_path,dest_path)\n",
    "        print(f\"Arquivo '{file_to_move_pre_processing}' movido para a pasta {PRE_PROCESSING}.\")\n",
    "    except Exception as e:\n",
    "        print(f\"Erro ao mover o arquivo: '{file_to_move_pre_processing}': {e}.\")"
   ]
  },
  {
   "cell_type": "markdown",
   "metadata": {},
   "source": [
    "# VERIFICAR A FORMA DE LER OS ARQUIVOS QUE ESTÃO NA PASTA DE DOWNLOAD - CONVERTER PARA CSV OU PARQUET E APÓS ESSA CONVERSÃO LEVAR PARA O MINIO"
   ]
  },
  {
   "cell_type": "markdown",
   "metadata": {},
   "source": [
    "## Lendo arquivos do Bucket - Transformando os arquivos .gpx em um dataframe e CSV e iniciando com PySpark"
   ]
  },
  {
   "cell_type": "code",
   "execution_count": 16,
   "metadata": {},
   "outputs": [],
   "source": [
    "# pip install gpxpy\n",
    "from io import BytesIO\n",
    "import gpxpy \n",
    "import gpxpy.gpx \n",
    "import pandas as pd\n",
    "import xml.etree.ElementTree as ET"
   ]
  },
  {
   "cell_type": "code",
   "execution_count": null,
   "metadata": {},
   "outputs": [],
   "source": [
    "# pip install minio\n",
    "import os\n",
    "from minio import Minio\n",
    "from minio.error import S3Error\n",
    "BRONZE_LAYER = 'bronze'\n",
    "\n",
    "minioclient = Minio('localhost:9000',\n",
    "    access_key='minioadmin',\n",
    "    secret_key='minioadmin',\n",
    "    secure=False)\n",
    "#print(minioclient.list_buckets())\n",
    "#print(\"Quantidade de Buckets\", len(minioclient.list_buckets()))"
   ]
  },
  {
   "cell_type": "code",
   "execution_count": 30,
   "metadata": {},
   "outputs": [
    {
     "data": {
      "text/plain": [
       "['9632227__Routes_from_sunnypilot_2023_08_19-dev__CHEVROLET_BOLT_EUV_2022__.gpx',\n",
       " '9690925__Routes_from_sunnypilot_0_9_4_1-release__HYUNDAI_IONIQ_5_2022__.gpx',\n",
       " '9690917__Routes_from_sunnypilot_0_9_4_1-release__KIA_EV6_2022__.gpx',\n",
       " '9632230__Routes_from_sunnypilot_2023_08_19-dev__HYUNDAI_SANTA_FE_2019__.gpx',\n",
       " '9690906__Routes_from_top_0_9_4_-_2023_07_05__TOYOTA_COROLLA_HYBRID_TSS2_2019__.gpx',\n",
       " '9632218__Routes_from_sunnypilot_2023_08_19-dev__HYUNDAI_SANTA_FE_2019__.gpx',\n",
       " '9632216__Routes_from_sunnypilot_0_9_4_1-release__TOYOTA_RAV4_2019__.gpx',\n",
       " '9690926__Routes_from_sunnypilot_0_9_4_1-release__HYUNDAI_IONIQ_5_2022__.gpx',\n",
       " '9632214__Routes_from_sunnypilot_2023_08_19-dev__SUBARU_IMPREZA_LIMITED_2019__.gpx',\n",
       " '9632228__Routes_from_sunnypilot_2023_08_19-dev__HYUNDAI_SANTA_FE_2019__.gpx',\n",
       " '9690922__Routes_from_dragonpilot_2023_07_05__TOYOTA_COROLLA_HYBRID_TSS2_2019__.gpx',\n",
       " '9690905__Routes_from_dragonpilot_2023_07_05__TOYOTA_COROLLA_TSS2_2019__.gpx',\n",
       " '9632229__Routes_from_sunnypilot_2023_08_19-dev__HYUNDAI_SANTA_FE_2019__.gpx',\n",
       " '9690907__Routes_from_top_0_9_4_Release_-_2023_07_28__TOYOTA_PRIUS_2017__.gpx',\n",
       " '9690909__Routes_from_sunnypilot_0_9_3_1-release__TOYOTA_RAV4_2019__.gpx',\n",
       " '9690914__Routes_from_top_0_9_4_-_2023_07_05__TOYOTA_COROLLA_HYBRID_TSS2_2019__.gpx',\n",
       " '9632223__Routes_from_sunnypilot_2023_08_19-dev__HONDA_ACCORD_2018__.gpx',\n",
       " '9632221__Routes_from_sunnypilot_0_9_4_1-release__CHRYSLER_PACIFICA_HYBRID_2019__.gpx',\n",
       " '9632220__Routes_from_sunnypilot_2023_08_19-dev__HYUNDAI_SANTA_FE_2019__.gpx',\n",
       " '9690924__Routes_from_top_0_9_4_Release_-_2023_07_28__TOYOTA_PRIUS_v_2017__.gpx',\n",
       " '9690919__Routes_from_sunnypilot_0_9_4_1-release__HYUNDAI_IONIQ_5_2022__.gpx',\n",
       " '9632217__Routes_from_sunnypilot_2023_08_19-dev__HYUNDAI_SANTA_FE_2019__.gpx',\n",
       " '9632224__Routes_from_sunnypilot_2023_08_19-dev__HYUNDAI_SANTA_FE_2019__.gpx',\n",
       " '9690918__Routes_from_dragonpilot_2023_07_05__TOYOTA_COROLLA_HYBRID_TSS2_2019__.gpx',\n",
       " '9690920__Routes_from_dragonpilot_2023_07_05__TOYOTA_COROLLA_TSS2_2019__.gpx',\n",
       " '9632233__Routes_from_sunnypilot_2023_08_19-dev__HYUNDAI_SANTA_FE_2019__.gpx',\n",
       " '9690921__Routes_from_top_0_9_4_-_2023_07_05__TOYOTA_COROLLA_HYBRID_TSS2_2019__.gpx',\n",
       " '9690908__Routes_from_dragonpilot_2023_07_05__TOYOTA_COROLLA_HYBRID_TSS2_2019__.gpx',\n",
       " '9632226__Routes_from_sunnypilot_2023_08_19-dev__HYUNDAI_SANTA_FE_2019__.gpx',\n",
       " '9690913__Routes_from_dragonpilot_2023_08_15__HONDA_HR-V_2023__.gpx',\n",
       " '9632232__Routes_from_sunnypilot_2023_08_19-dev__HYUNDAI_SANTA_FE_2019__.gpx',\n",
       " '9632231__Routes_from_sunnypilot_2023_08_19-dev__HYUNDAI_SANTA_FE_2019__.gpx',\n",
       " '9632222__Routes_from_sunnypilot_2023_08_19-dev__HYUNDAI_SANTA_FE_2019__.gpx',\n",
       " '9690904__Routes_from_dragonpilot_2023_07_05__TOYOTA_COROLLA_TSS2_2019__.gpx',\n",
       " '9690911__2023-08-25_11-34_Fri.gpx',\n",
       " '9690915__Routes_from_top_0_9_4_-_2023_07_05__TOYOTA_PRIUS_v_2017__.gpx',\n",
       " '9632219__Routes_from_sunnypilot_2023_08_19-dev__HYUNDAI_ELANTRA_2021__.gpx',\n",
       " '9632225__Routes_from_sunnypilot_2023_08_19-dev__HYUNDAI_SANTA_FE_2019__.gpx',\n",
       " '9632234__Routes_from_sunnypilot_2023_08_19-dev__HYUNDAI_SANTA_FE_2019__.gpx']"
      ]
     },
     "execution_count": 30,
     "metadata": {},
     "output_type": "execute_result"
    }
   ],
   "source": [
    "files_to_pre_processing = [arquivo for arquivo in os.listdir(PRE_PROCESSING) if arquivo.endswith(\".gpx\")] #--> Listando todos os arquivos da pasta preprocessamento com extensão .gpx\n",
    "files_to_pre_processing\n"
   ]
  },
  {
   "cell_type": "code",
   "execution_count": 39,
   "metadata": {},
   "outputs": [],
   "source": [
    "files_to_pre_processing = [arquivo for arquivo in os.listdir(PRE_PROCESSING) if arquivo.endswith(\".gpx\")] #--> Listando todos os arquivos da pasta preprocessamento com extensão .gpx\n",
    "\n",
    "for file_to_pre_processing in files_to_pre_processing:\n",
    "    file_path = os.path.join(PRE_PROCESSING, file_to_pre_processing) # --> Crie o caminho completo para o arquivo GPX\n",
    "\n",
    "    with open(file_path, 'r', encoding='utf-8') as gpx_file:\n",
    "        gpx = gpxpy.parse(gpx_file)\n",
    "\n",
    "    info_rota = [] #--> Lista que servirá de apoio para converter o arquivo .gpx em uma lista\n",
    "    for track in gpx.tracks:\n",
    "        for segment in track.segments:\n",
    "            for point in segment.points:\n",
    "                info_rota.append({\n",
    "                    'latitude': point.latitude,\n",
    "                    'longitude': point.longitude,\n",
    "                    'elevacao' : point.elevation,\n",
    "                    'time_point' : point.time\n",
    "                })\n",
    "    file_to_pre_processing_csv = file_to_pre_processing.replace('.gpx','')\n",
    "    info_rota_df = pd.DataFrame(info_rota)\n",
    "    info_rota_df.to_csv(f'{PRE_PROCESSING}/{file_to_pre_processing_csv}.csv', index=False)\n",
    "    os.remove(file_path)    "
   ]
  },
  {
   "cell_type": "code",
   "execution_count": null,
   "metadata": {},
   "outputs": [],
   "source": [
    "## Aqui os arquivos com a extensão .gpx saem da pasta Download para o bucket MinIO\n",
    "files_to_datalake = [files for files in os.listdir(PRE_PROCESSING) if files.endswith(\".gpx\")]\n",
    "for name_file in files_to_datalake:\n",
    "    local_path = os.path.join(DOWNLOADS, name_file)\n",
    "    if os.path.isfile(local_path):\n",
    "        try:\n",
    "            minioclient.fput_object(BRONZE_LAYER, name_file, local_path)\n",
    "            print(f\"Arquivo {name_file} enviado com sucesso para o bucket.\")\n",
    "            os.remove(local_path) # --> Após o envio bem sucedido para o bucket o arquivo é excluído da pasta download\n",
    "        except S3Error as e:\n",
    "            print(f\"Erro ao enviar o arquivo: {name_file} -> Erro: {e}\")     "
   ]
  },
  {
   "cell_type": "code",
   "execution_count": null,
   "metadata": {},
   "outputs": [],
   "source": []
  },
  {
   "cell_type": "code",
   "execution_count": null,
   "metadata": {},
   "outputs": [],
   "source": []
  },
  {
   "cell_type": "code",
   "execution_count": 51,
   "metadata": {},
   "outputs": [],
   "source": []
  },
  {
   "cell_type": "code",
   "execution_count": 53,
   "metadata": {},
   "outputs": [],
   "source": []
  },
  {
   "cell_type": "code",
   "execution_count": 54,
   "metadata": {},
   "outputs": [
    {
     "data": {
      "text/html": [
       "\n",
       "            <div>\n",
       "                <p><b>SparkSession - in-memory</b></p>\n",
       "                \n",
       "        <div>\n",
       "            <p><b>SparkContext</b></p>\n",
       "\n",
       "            <p><a href=\"http://172.18.152.180:4040\">Spark UI</a></p>\n",
       "\n",
       "            <dl>\n",
       "              <dt>Version</dt>\n",
       "                <dd><code>v3.4.1</code></dd>\n",
       "              <dt>Master</dt>\n",
       "                <dd><code>local[*]</code></dd>\n",
       "              <dt>AppName</dt>\n",
       "                <dd><code>tcc-project</code></dd>\n",
       "            </dl>\n",
       "        </div>\n",
       "        \n",
       "            </div>\n",
       "        "
      ],
      "text/plain": [
       "<pyspark.sql.session.SparkSession at 0x7f06cb8f5450>"
      ]
     },
     "execution_count": 54,
     "metadata": {},
     "output_type": "execute_result"
    }
   ],
   "source": []
  },
  {
   "cell_type": "code",
   "execution_count": 25,
   "metadata": {},
   "outputs": [],
   "source": [
    "with open('PRE_PROCESSING/9632214__Routes_from_sunnypilot_2023_08_19-dev__SUBARU_IMPREZA_LIMITED_2019__.gpx', 'r', encoding='utf-8') as gpx_file:\n",
    "    gpx = gpxpy.parse(gpx_file)"
   ]
  },
  {
   "cell_type": "code",
   "execution_count": null,
   "metadata": {},
   "outputs": [],
   "source": [
    "gpx_file = '9632229__Routes_from_sunnypilot_2023_08_19-dev__HYUNDAI_SANTA_FE_2019__.gpx'"
   ]
  },
  {
   "cell_type": "code",
   "execution_count": 22,
   "metadata": {},
   "outputs": [],
   "source": [
    "gpx_file = str(gpx_file)"
   ]
  },
  {
   "cell_type": "code",
   "execution_count": 23,
   "metadata": {},
   "outputs": [
    {
     "data": {
      "text/plain": [
       "str"
      ]
     },
     "execution_count": 23,
     "metadata": {},
     "output_type": "execute_result"
    }
   ],
   "source": [
    "type(gpx_file)"
   ]
  },
  {
   "cell_type": "code",
   "execution_count": 24,
   "metadata": {},
   "outputs": [
    {
     "ename": "FileNotFoundError",
     "evalue": "[Errno 2] No such file or directory: \"<_io.TextIOWrapper name='PRE_PROCESSING/9632214__Routes_from_sunnypilot_2023_08_19-dev__SUBARU_IMPREZA_LIMITED_2019__.gpx' mode='r' encoding='utf-8'>\"",
     "output_type": "error",
     "traceback": [
      "\u001b[0;31m---------------------------------------------------------------------------\u001b[0m",
      "\u001b[0;31mFileNotFoundError\u001b[0m                         Traceback (most recent call last)",
      "Cell \u001b[0;32mIn[24], line 1\u001b[0m\n\u001b[0;32m----> 1\u001b[0m \u001b[39mwith\u001b[39;00m \u001b[39mopen\u001b[39;49m(gpx_file, \u001b[39m'\u001b[39;49m\u001b[39mr\u001b[39;49m\u001b[39m'\u001b[39;49m, encoding\u001b[39m=\u001b[39;49m\u001b[39m'\u001b[39;49m\u001b[39mutf-8\u001b[39;49m\u001b[39m'\u001b[39;49m) \u001b[39mas\u001b[39;00m gpx_file:\n\u001b[1;32m      2\u001b[0m     gpx \u001b[39m=\u001b[39m gpxpy\u001b[39m.\u001b[39mparse(gpx_file)\n",
      "File \u001b[0;32m~/tcc_ufrj/venv/lib/python3.10/site-packages/IPython/core/interactiveshell.py:284\u001b[0m, in \u001b[0;36m_modified_open\u001b[0;34m(file, *args, **kwargs)\u001b[0m\n\u001b[1;32m    277\u001b[0m \u001b[39mif\u001b[39;00m file \u001b[39min\u001b[39;00m {\u001b[39m0\u001b[39m, \u001b[39m1\u001b[39m, \u001b[39m2\u001b[39m}:\n\u001b[1;32m    278\u001b[0m     \u001b[39mraise\u001b[39;00m \u001b[39mValueError\u001b[39;00m(\n\u001b[1;32m    279\u001b[0m         \u001b[39mf\u001b[39m\u001b[39m\"\u001b[39m\u001b[39mIPython won\u001b[39m\u001b[39m'\u001b[39m\u001b[39mt let you open fd=\u001b[39m\u001b[39m{\u001b[39;00mfile\u001b[39m}\u001b[39;00m\u001b[39m by default \u001b[39m\u001b[39m\"\u001b[39m\n\u001b[1;32m    280\u001b[0m         \u001b[39m\"\u001b[39m\u001b[39mas it is likely to crash IPython. If you know what you are doing, \u001b[39m\u001b[39m\"\u001b[39m\n\u001b[1;32m    281\u001b[0m         \u001b[39m\"\u001b[39m\u001b[39myou can use builtins\u001b[39m\u001b[39m'\u001b[39m\u001b[39m open.\u001b[39m\u001b[39m\"\u001b[39m\n\u001b[1;32m    282\u001b[0m     )\n\u001b[0;32m--> 284\u001b[0m \u001b[39mreturn\u001b[39;00m io_open(file, \u001b[39m*\u001b[39;49margs, \u001b[39m*\u001b[39;49m\u001b[39m*\u001b[39;49mkwargs)\n",
      "\u001b[0;31mFileNotFoundError\u001b[0m: [Errno 2] No such file or directory: \"<_io.TextIOWrapper name='PRE_PROCESSING/9632214__Routes_from_sunnypilot_2023_08_19-dev__SUBARU_IMPREZA_LIMITED_2019__.gpx' mode='r' encoding='utf-8'>\""
     ]
    }
   ],
   "source": [
    "with open(gpx_file, 'r', encoding='utf-8') as gpx_file:\n",
    "    gpx = gpxpy.parse(gpx_file)"
   ]
  },
  {
   "cell_type": "code",
   "execution_count": 13,
   "metadata": {},
   "outputs": [
    {
     "data": {
      "text/plain": [
       "GPX(tracks=[GPXTrack(name='2023-08-22T21:58:37.171082', segments=[GPXTrackSegment(points=[...])])])"
      ]
     },
     "execution_count": 13,
     "metadata": {},
     "output_type": "execute_result"
    }
   ],
   "source": [
    "gpx"
   ]
  },
  {
   "cell_type": "code",
   "execution_count": 14,
   "metadata": {},
   "outputs": [
    {
     "data": {
      "text/plain": [
       "gpxpy.gpx.GPX"
      ]
     },
     "execution_count": 14,
     "metadata": {},
     "output_type": "execute_result"
    }
   ],
   "source": [
    "type(gpx)"
   ]
  },
  {
   "cell_type": "code",
   "execution_count": 15,
   "metadata": {},
   "outputs": [
    {
     "data": {
      "text/plain": [
       "1444"
      ]
     },
     "execution_count": 15,
     "metadata": {},
     "output_type": "execute_result"
    }
   ],
   "source": [
    "# Para retornar a quantidade de pontos (lat+lon+ele) em um arquivo arquivo '.gpx' podemos usar get\n",
    "# Documentação: https://pypi.org/project/gpxpy/\n",
    "gpx.get_track_points_no()"
   ]
  },
  {
   "cell_type": "code",
   "execution_count": 16,
   "metadata": {},
   "outputs": [
    {
     "data": {
      "text/plain": [
       "MinimumMaximum(minimum=377.068, maximum=387.808)"
      ]
     },
     "execution_count": 16,
     "metadata": {},
     "output_type": "execute_result"
    }
   ],
   "source": [
    "# Para retornar a faixa de altitude, a fim de se obter extremos de maior elevação e menor elevação no trajeto percorrido - os valores apresentados são em metros acima do nível do mar\n",
    "gpx.get_elevation_extremes()"
   ]
  },
  {
   "cell_type": "code",
   "execution_count": 17,
   "metadata": {},
   "outputs": [
    {
     "data": {
      "text/plain": [
       "UphillDownhill(uphill=5.158500000000004, downhill=15.25849999999997)"
      ]
     },
     "execution_count": 17,
     "metadata": {},
     "output_type": "execute_result"
    }
   ],
   "source": [
    "# Não endendi para que isso serve\n",
    "gpx.get_uphill_downhill()"
   ]
  },
  {
   "cell_type": "code",
   "execution_count": 19,
   "metadata": {},
   "outputs": [
    {
     "data": {
      "text/plain": [
       "'sunnypilot https://github.com/sunnypilot/openpilot'"
      ]
     },
     "execution_count": 19,
     "metadata": {},
     "output_type": "execute_result"
    }
   ],
   "source": [
    "# Obtendo o nome do criador da rota - Entretanto no nosso caso quando usamos esse comando temos uma informação generica - Foi necessário obter o nome do criador da rota com o WebScraping\n",
    "creator = gpx.creator\n",
    "creator"
   ]
  },
  {
   "cell_type": "code",
   "execution_count": 20,
   "metadata": {},
   "outputs": [
    {
     "name": "stdout",
     "output_type": "stream",
     "text": [
      "<?xml version=\"1.0\" encoding=\"UTF-8\"?>\n",
      "<gpx xmlns=\"http://www.topografix.com/GPX/1/1\" xmlns:xsi=\"http://www.w3.org/2001/XMLSchema-instance\" xsi:schemaLocation=\"http://www.topografix.com/GPX/1/1 http://www.topografix.com/GPX/1/1/gpx.xsd\" version=\"1.1\" creator=\"sunnypilot https://github.com/sunnypilot/openpilot\">\n",
      "  <trk>\n",
      "    <name>2023-08-22T21:58:37.171082</name>\n",
      "    <trkseg>\n",
      "      <trkpt lat=\"47.24594698457771\" lon=\"-119.84832664631423\">\n",
      "        <ele>387.808</ele>\n",
      "        <time>2023-08-22T21:59:09.999000Z</time>\n",
      "      </trkpt>\n",
      "      <trkpt lat=\"47.24593511169682\" lon=\"-119.84832656552271\">\n",
      "        <ele>387.71500000000003</ele>\n",
      "        <time>2023-08-22T21:59:10.099000Z</time>\n",
      "      </trkpt>\n",
      "      <trkpt lat=\"47.24592350696483\" lon=\"-119.848326532356\">\n",
      "        <ele>387.629</ele>\n",
      "        <time>2023-08-22T21:59:10.199000Z</time>\n",
      "      </trkpt>\n",
      "      <trkpt lat=\"47.24591181618821\" lon=\"-119.84832652890437\">\n",
      "        <ele>387.619</ele>\n",
      "        <time>2023-08-22T21:59:10.299000Z</time>\n",
      "      </\n"
     ]
    }
   ],
   "source": [
    "# Para exibir o conteudo do arquivo .gpx em formato xml\n",
    "print(gpx.to_xml()[:1000])"
   ]
  },
  {
   "cell_type": "code",
   "execution_count": 21,
   "metadata": {},
   "outputs": [
    {
     "data": {
      "text/plain": [
       "1"
      ]
     },
     "execution_count": 21,
     "metadata": {},
     "output_type": "execute_result"
    }
   ],
   "source": [
    "# É possivel verificar quantas rotas/trilhas nosso arquivo .gpx possui\n",
    "len(gpx.tracks)"
   ]
  },
  {
   "cell_type": "code",
   "execution_count": 22,
   "metadata": {},
   "outputs": [
    {
     "data": {
      "text/plain": [
       "GPXTrack(name='2023-08-22T21:58:37.171082', segments=[GPXTrackSegment(points=[...])])"
      ]
     },
     "execution_count": 22,
     "metadata": {},
     "output_type": "execute_result"
    }
   ],
   "source": [
    "# Como no nosso exemplo acima só temos 1 rota/trilha efetuada, podemos acessar por meio de indice no python, \n",
    "# Nesse caso se passa o valor [0] para ter uma precisão exata da rota em que estamos trabalhando\n",
    "gpx.tracks[0]"
   ]
  },
  {
   "cell_type": "code",
   "execution_count": 25,
   "metadata": {},
   "outputs": [
    {
     "data": {
      "text/plain": [
       "GPXTrackSegment(points=[...])"
      ]
     },
     "execution_count": 25,
     "metadata": {},
     "output_type": "execute_result"
    }
   ],
   "source": [
    "# Agora vamos acessar os segmentos da nossa rota/trilha\n",
    "gpx.tracks[0].segments[0]"
   ]
  },
  {
   "cell_type": "code",
   "execution_count": 26,
   "metadata": {},
   "outputs": [
    {
     "data": {
      "text/plain": [
       "[GPXTrackPoint(47.24594698457771, -119.84832664631423, elevation=387.808, time=datetime.datetime(2023, 8, 22, 21, 59, 9, 999000, tzinfo=SimpleTZ(\"Z\"))),\n",
       " GPXTrackPoint(47.24593511169682, -119.84832656552271, elevation=387.71500000000003, time=datetime.datetime(2023, 8, 22, 21, 59, 10, 99000, tzinfo=SimpleTZ(\"Z\"))),\n",
       " GPXTrackPoint(47.24592350696483, -119.848326532356, elevation=387.629, time=datetime.datetime(2023, 8, 22, 21, 59, 10, 199000, tzinfo=SimpleTZ(\"Z\"))),\n",
       " GPXTrackPoint(47.24591181618821, -119.84832652890437, elevation=387.619, time=datetime.datetime(2023, 8, 22, 21, 59, 10, 299000, tzinfo=SimpleTZ(\"Z\"))),\n",
       " GPXTrackPoint(47.24590031562128, -119.84832646227642, elevation=387.63, time=datetime.datetime(2023, 8, 22, 21, 59, 10, 399000, tzinfo=SimpleTZ(\"Z\"))),\n",
       " GPXTrackPoint(47.24588850120415, -119.84832634924405, elevation=387.645, time=datetime.datetime(2023, 8, 22, 21, 59, 10, 499000, tzinfo=SimpleTZ(\"Z\"))),\n",
       " GPXTrackPoint(47.24587677038345, -119.84832621704865, elevation=387.665, time=datetime.datetime(2023, 8, 22, 21, 59, 10, 599000, tzinfo=SimpleTZ(\"Z\"))),\n",
       " GPXTrackPoint(47.2458650219579, -119.84832606443189, elevation=387.721, time=datetime.datetime(2023, 8, 22, 21, 59, 10, 699000, tzinfo=SimpleTZ(\"Z\"))),\n",
       " GPXTrackPoint(47.24585325989609, -119.84832593375106, elevation=387.693, time=datetime.datetime(2023, 8, 22, 21, 59, 10, 799000, tzinfo=SimpleTZ(\"Z\"))),\n",
       " GPXTrackPoint(47.24584139289041, -119.84832587727719, elevation=387.58, time=datetime.datetime(2023, 8, 22, 21, 59, 10, 899000, tzinfo=SimpleTZ(\"Z\")))]"
      ]
     },
     "execution_count": 26,
     "metadata": {},
     "output_type": "execute_result"
    }
   ],
   "source": [
    "# Agora podemos acessar os pontos de dados individuais dentro do nosso gpx acessando a matriz de pontos. Aqui tambem podemo0s ver o nome das propriedades do arquivo como elevation e time\n",
    "gpx.tracks[0].segments[0].points[:10]"
   ]
  },
  {
   "cell_type": "code",
   "execution_count": 36,
   "metadata": {},
   "outputs": [],
   "source": [
    "# Aqui acessamos as tres camadas: Track - Segments e Point e o passamos para um array em forma de dicionário. Note que podemos acessar cada atributo. No meu caso estou pegando latitude, Longitude, Elevação e a hora de cada ponto (entenda-se como ponto Lat+Long+Ele)\n",
    "info_rota = []\n",
    "for track in gpx.tracks:\n",
    "    for segment in track.segments:\n",
    "        for point in segment.points:\n",
    "            info_rota.append({\n",
    "                'latitude': point.latitude,\n",
    "                'longitude': point.longitude,\n",
    "                'elevacao' : point.elevation,\n",
    "                'time_point' : point.time\n",
    "            })"
   ]
  },
  {
   "cell_type": "code",
   "execution_count": 37,
   "metadata": {},
   "outputs": [
    {
     "data": {
      "text/plain": [
       "[{'latitude': 47.24594698457771,\n",
       "  'longitude': -119.84832664631423,\n",
       "  'elevacao': 387.808,\n",
       "  'time_point': datetime.datetime(2023, 8, 22, 21, 59, 9, 999000, tzinfo=SimpleTZ(\"Z\"))},\n",
       " {'latitude': 47.24593511169682,\n",
       "  'longitude': -119.84832656552271,\n",
       "  'elevacao': 387.71500000000003,\n",
       "  'time_point': datetime.datetime(2023, 8, 22, 21, 59, 10, 99000, tzinfo=SimpleTZ(\"Z\"))},\n",
       " {'latitude': 47.24592350696483,\n",
       "  'longitude': -119.848326532356,\n",
       "  'elevacao': 387.629,\n",
       "  'time_point': datetime.datetime(2023, 8, 22, 21, 59, 10, 199000, tzinfo=SimpleTZ(\"Z\"))}]"
      ]
     },
     "execution_count": 37,
     "metadata": {},
     "output_type": "execute_result"
    }
   ],
   "source": [
    "# Exibindo somente os 3 primeiros resultados\n",
    "info_rota[:3]"
   ]
  },
  {
   "cell_type": "code",
   "execution_count": 38,
   "metadata": {},
   "outputs": [
    {
     "data": {
      "text/plain": [
       "list"
      ]
     },
     "execution_count": 38,
     "metadata": {},
     "output_type": "execute_result"
    }
   ],
   "source": [
    "type(info_rota)"
   ]
  },
  {
   "cell_type": "code",
   "execution_count": 31,
   "metadata": {},
   "outputs": [
    {
     "data": {
      "text/html": [
       "<div>\n",
       "<style scoped>\n",
       "    .dataframe tbody tr th:only-of-type {\n",
       "        vertical-align: middle;\n",
       "    }\n",
       "\n",
       "    .dataframe tbody tr th {\n",
       "        vertical-align: top;\n",
       "    }\n",
       "\n",
       "    .dataframe thead th {\n",
       "        text-align: right;\n",
       "    }\n",
       "</style>\n",
       "<table border=\"1\" class=\"dataframe\">\n",
       "  <thead>\n",
       "    <tr style=\"text-align: right;\">\n",
       "      <th></th>\n",
       "      <th>latitude</th>\n",
       "      <th>longitude</th>\n",
       "      <th>elevacao</th>\n",
       "      <th>time_point</th>\n",
       "    </tr>\n",
       "  </thead>\n",
       "  <tbody>\n",
       "    <tr>\n",
       "      <th>0</th>\n",
       "      <td>47.245947</td>\n",
       "      <td>-119.848327</td>\n",
       "      <td>387.808</td>\n",
       "      <td>2023-08-22 21:59:09.999000+00:00</td>\n",
       "    </tr>\n",
       "    <tr>\n",
       "      <th>1</th>\n",
       "      <td>47.245935</td>\n",
       "      <td>-119.848327</td>\n",
       "      <td>387.715</td>\n",
       "      <td>2023-08-22 21:59:10.099000+00:00</td>\n",
       "    </tr>\n",
       "    <tr>\n",
       "      <th>2</th>\n",
       "      <td>47.245924</td>\n",
       "      <td>-119.848327</td>\n",
       "      <td>387.629</td>\n",
       "      <td>2023-08-22 21:59:10.199000+00:00</td>\n",
       "    </tr>\n",
       "    <tr>\n",
       "      <th>3</th>\n",
       "      <td>47.245912</td>\n",
       "      <td>-119.848327</td>\n",
       "      <td>387.619</td>\n",
       "      <td>2023-08-22 21:59:10.299000+00:00</td>\n",
       "    </tr>\n",
       "    <tr>\n",
       "      <th>4</th>\n",
       "      <td>47.245900</td>\n",
       "      <td>-119.848326</td>\n",
       "      <td>387.630</td>\n",
       "      <td>2023-08-22 21:59:10.399000+00:00</td>\n",
       "    </tr>\n",
       "  </tbody>\n",
       "</table>\n",
       "</div>"
      ],
      "text/plain": [
       "    latitude   longitude  elevacao                       time_point\n",
       "0  47.245947 -119.848327   387.808 2023-08-22 21:59:09.999000+00:00\n",
       "1  47.245935 -119.848327   387.715 2023-08-22 21:59:10.099000+00:00\n",
       "2  47.245924 -119.848327   387.629 2023-08-22 21:59:10.199000+00:00\n",
       "3  47.245912 -119.848327   387.619 2023-08-22 21:59:10.299000+00:00\n",
       "4  47.245900 -119.848326   387.630 2023-08-22 21:59:10.399000+00:00"
      ]
     },
     "execution_count": 31,
     "metadata": {},
     "output_type": "execute_result"
    }
   ],
   "source": [
    "# Aqui podemos transformar essa informação em um dataframe com a biblioteca pandas\n",
    "info_rota_df = pd.DataFrame(info_rota)\n",
    "info_rota_df.head()"
   ]
  },
  {
   "cell_type": "code",
   "execution_count": 59,
   "metadata": {},
   "outputs": [
    {
     "data": {
      "text/plain": [
       "pandas.core.frame.DataFrame"
      ]
     },
     "execution_count": 59,
     "metadata": {},
     "output_type": "execute_result"
    }
   ],
   "source": [
    "type(info_rota_df)"
   ]
  },
  {
   "cell_type": "code",
   "execution_count": 60,
   "metadata": {},
   "outputs": [],
   "source": [
    "# Aqui salvamos o pandas dataframe localmente\n",
    "info_rota_df.to_csv('pandas_info_rota.csv', index=False)\n",
    "\n",
    "# <creator> contem o nome do cara que está se deslocando\n",
    "# existe uma <trkpt> acredito q seja um track point\n",
    "# <name> contem uma da e hora. Acredito que seja a hora do envio do arquivo gpx\n",
    "# <trkpt> é um bloco com lat - lon - internamente tem um <ele> de elevação e um <time> que acredito ser o horario que o cliente estava no ponto lat+long+ele"
   ]
  },
  {
   "cell_type": "code",
   "execution_count": 65,
   "metadata": {},
   "outputs": [],
   "source": [
    "# Aqui salvamos o pandas dataframe localmente\n",
    "info_rota_df.to_parquet('pd_parquet_info_rota.parquet', index=False)\n",
    "\n",
    "# <creator> contem o nome do cara que está se deslocando\n",
    "# existe uma <trkpt> acredito q seja um track point\n",
    "# <name> contem uma da e hora. Acredito que seja a hora do envio do arquivo gpx\n",
    "# <trkpt> é um bloco com lat - lon - internamente tem um <ele> de elevação e um <time> que acredito ser o horario que o cliente estava no ponto lat+long+ele"
   ]
  },
  {
   "cell_type": "code",
   "execution_count": 64,
   "metadata": {},
   "outputs": [],
   "source": [
    "# pip install minio\n",
    "import os\n",
    "from minio import Minio\n",
    "from minio.error import S3Error\n",
    "BRONZE_LAYER = 'bronze'\n",
    "\n",
    "minioclient = Minio('localhost:9000',\n",
    "    access_key='minioadmin',\n",
    "    secret_key='minioadmin',\n",
    "    secure=False)\n",
    "#print(minioclient.list_buckets())\n",
    "#print(\"Quantidade de Buckets\", len(minioclient.list_buckets()))"
   ]
  },
  {
   "cell_type": "code",
   "execution_count": null,
   "metadata": {},
   "outputs": [],
   "source": [
    " "
   ]
  },
  {
   "cell_type": "code",
   "execution_count": null,
   "metadata": {},
   "outputs": [],
   "source": []
  },
  {
   "cell_type": "code",
   "execution_count": null,
   "metadata": {},
   "outputs": [],
   "source": []
  },
  {
   "cell_type": "code",
   "execution_count": null,
   "metadata": {},
   "outputs": [],
   "source": []
  },
  {
   "cell_type": "markdown",
   "metadata": {},
   "source": [
    "## Forma de como transformar uma lista em um spark dataframe"
   ]
  },
  {
   "cell_type": "code",
   "execution_count": null,
   "metadata": {},
   "outputs": [],
   "source": [
    "from pyspark.sql import SparkSession"
   ]
  },
  {
   "cell_type": "code",
   "execution_count": null,
   "metadata": {},
   "outputs": [],
   "source": [
    "# Criando as variáveis que serão utilizadas no Spark\n",
    "appname = 'tcc-project'\n",
    "master = 'local'\n",
    "\n",
    "# Criando a sessão Spark\n",
    "spark = SparkSession.builder\\\n",
    "    .appName(appname)\\\n",
    "    .master(master)\\\n",
    "    .getOrCreate()"
   ]
  },
  {
   "cell_type": "code",
   "execution_count": null,
   "metadata": {},
   "outputs": [],
   "source": [
    "spark"
   ]
  },
  {
   "cell_type": "code",
   "execution_count": 55,
   "metadata": {},
   "outputs": [],
   "source": [
    "df = spark.createDataFrame(info_rota)"
   ]
  },
  {
   "cell_type": "code",
   "execution_count": 58,
   "metadata": {},
   "outputs": [
    {
     "data": {
      "text/plain": [
       "pyspark.sql.dataframe.DataFrame"
      ]
     },
     "execution_count": 58,
     "metadata": {},
     "output_type": "execute_result"
    }
   ],
   "source": [
    "type(df)"
   ]
  },
  {
   "cell_type": "code",
   "execution_count": 57,
   "metadata": {},
   "outputs": [
    {
     "name": "stderr",
     "output_type": "stream",
     "text": [
      "[Stage 0:>                                                          (0 + 1) / 1]\r"
     ]
    },
    {
     "name": "stdout",
     "output_type": "stream",
     "text": [
      "+------------------+------------------+-------------------+--------------------+\n",
      "|          elevacao|          latitude|          longitude|          time_point|\n",
      "+------------------+------------------+-------------------+--------------------+\n",
      "|           387.808| 47.24594698457771|-119.84832664631423|2023-08-22 18:59:...|\n",
      "|387.71500000000003| 47.24593511169682|-119.84832656552271|2023-08-22 18:59:...|\n",
      "|           387.629| 47.24592350696483|  -119.848326532356|2023-08-22 18:59:...|\n",
      "|           387.619| 47.24591181618821|-119.84832652890437|2023-08-22 18:59:...|\n",
      "|            387.63| 47.24590031562128|-119.84832646227642|2023-08-22 18:59:...|\n",
      "|           387.645| 47.24588850120415|-119.84832634924405|2023-08-22 18:59:...|\n",
      "|           387.665| 47.24587677038345|-119.84832621704865|2023-08-22 18:59:...|\n",
      "|           387.721|  47.2458650219579|-119.84832606443189|2023-08-22 18:59:...|\n",
      "|           387.693| 47.24585325989609|-119.84832593375106|2023-08-22 18:59:...|\n",
      "|            387.58| 47.24584139289041|-119.84832587727719|2023-08-22 18:59:...|\n",
      "|           387.498|  47.2458297305831| -119.8483258065211|2023-08-22 18:59:...|\n",
      "|           387.503| 47.24581805879419|-119.84832573990533|2023-08-22 18:59:...|\n",
      "|           387.512| 47.24580629723146|-119.84832570978884|2023-08-22 18:59:...|\n",
      "|           387.503|  47.2457945854371|-119.84832572726266|2023-08-22 18:59:...|\n",
      "|            387.51|47.245782948291854|-119.84832572438087|2023-08-22 18:59:...|\n",
      "|           387.452| 47.24577146050741|-119.84832580977191|2023-08-22 18:59:...|\n",
      "|           387.414|  47.2457598482702|-119.84832590130054|2023-08-22 18:59:...|\n",
      "|           387.467|47.245748070360115|-119.84832594705543|2023-08-22 18:59:...|\n",
      "|387.53000000000003| 47.24573638222946|-119.84832597339886|2023-08-22 18:59:...|\n",
      "|387.53700000000003| 47.24572451982315|-119.84832601852067|2023-08-22 18:59:...|\n",
      "+------------------+------------------+-------------------+--------------------+\n",
      "only showing top 20 rows\n",
      "\n"
     ]
    },
    {
     "name": "stderr",
     "output_type": "stream",
     "text": [
      "                                                                                \r"
     ]
    }
   ],
   "source": [
    "df.show()"
   ]
  },
  {
   "cell_type": "code",
   "execution_count": null,
   "metadata": {},
   "outputs": [],
   "source": [
    "# Coalesce o DataFrame para um único arquivo\n",
    "df_single_file = df.coalesce(1)\n",
    "# Salve o DataFrame coalesced como um único arquivo CSV\n",
    "df_single_file.write.csv(csv_file_path, header=True, mode=\"overwrite\")\n",
    "\n",
    "# Dessa forma o spark gera um csv particionado\n",
    "df.write.csv('pyspark_dataframe.csv', header=True, mode=\"overwrite\")"
   ]
  },
  {
   "cell_type": "markdown",
   "metadata": {},
   "source": [
    "## Daqui para baixo é para mover para o Minio\n"
   ]
  },
  {
   "cell_type": "code",
   "execution_count": null,
   "metadata": {},
   "outputs": [],
   "source": [
    "# pip install minio\n",
    "import os\n",
    "from minio import Minio\n",
    "from minio.error import S3Error\n",
    "from io import BytesIO\n",
    "import gpxpy \n",
    "import gpxpy.gpx \n",
    "import pandas as pd\n",
    "from xml.dom import minidom\n",
    "\n",
    "\n",
    "DOWNLOADS = '/home/thiago/Downloads/'\n",
    "BRONZE_LAYER = 'bronze'\n",
    "\n",
    "minioclient = Minio('localhost:9000',\n",
    "    access_key='minioadmin',\n",
    "    secret_key='minioadmin',\n",
    "    secure=False)"
   ]
  },
  {
   "cell_type": "code",
   "execution_count": null,
   "metadata": {},
   "outputs": [],
   "source": [
    "info_rota = []\n",
    "arquivos_rotas_gpx = [arquivo_gpx for arquivo_gpx in minioclient.list_objects(BRONZE_LAYER) if arquivo_gpx.object_name.endswith(\".gpx\")]"
   ]
  },
  {
   "cell_type": "code",
   "execution_count": null,
   "metadata": {},
   "outputs": [],
   "source": [
    "for arquivo_rota_gpx in arquivos_rotas_gpx:    \n",
    "    try:\n",
    "        blob_rota_gpx = minioclient.get_object(BRONZE_LAYER, arquivo_rota_gpx.object_name)\n",
    "        rota_gpx = blob_rota_gpx.data\n",
    "        rota_gpx = rota_gpx.decode(\"ISO-8859-1\")\n",
    "        try:\n",
    "            gpx = gpxpy.parse(rota_gpx)\n",
    "        \n",
    "            for track in gpx.tracks:\n",
    "                for segment in track.segments:\n",
    "                    for point in segment.points:\n",
    "                        info_rota.append({\n",
    "                        'latitude': point.latitude,\n",
    "                        'longitude': point.longitude,\n",
    "                        'elevacao' : point.elevation,\n",
    "                        'time_point' : point.time})\n",
    "    \n",
    "        except gpxpy.gpx.GPXXMLSyntaxException as e:\n",
    "            print(f\"Erro de sintaxe XML no arquivo {arquivo_rota_gpx.object_name}: {e}\")\n",
    "    except S3Error as e:\n",
    "        print(f\"Erro ao acessar o objeto: {e}\")    "
   ]
  },
  {
   "cell_type": "code",
   "execution_count": null,
   "metadata": {},
   "outputs": [],
   "source": [
    "info_rota"
   ]
  },
  {
   "cell_type": "code",
   "execution_count": null,
   "metadata": {},
   "outputs": [],
   "source": [
    "type(rota_gpx)"
   ]
  },
  {
   "cell_type": "code",
   "execution_count": null,
   "metadata": {},
   "outputs": [],
   "source": [
    "# pip install pyspark\n",
    "# from pyspark.sql import SparkSession\n",
    "# spark = SparkSession.builder.appName('tcc-project').getOrCreate()"
   ]
  },
  {
   "cell_type": "code",
   "execution_count": null,
   "metadata": {},
   "outputs": [],
   "source": []
  },
  {
   "cell_type": "code",
   "execution_count": null,
   "metadata": {},
   "outputs": [],
   "source": []
  },
  {
   "cell_type": "code",
   "execution_count": null,
   "metadata": {},
   "outputs": [],
   "source": []
  },
  {
   "cell_type": "code",
   "execution_count": null,
   "metadata": {},
   "outputs": [],
   "source": []
  },
  {
   "cell_type": "markdown",
   "metadata": {},
   "source": [
    "## Os arquivos que serão movidos da pasta Download para o MINIO_DATA_LAKE precisam estar transformados em Parquet e CSV."
   ]
  },
  {
   "cell_type": "code",
   "execution_count": null,
   "metadata": {},
   "outputs": [],
   "source": [
    "# pip install minio\n",
    "import os\n",
    "from minio import Minio\n",
    "from minio.error import S3Error\n",
    "BRONZE_LAYER = 'bronze'\n",
    "\n",
    "minioclient = Minio('localhost:9000',\n",
    "    access_key='minioadmin',\n",
    "    secret_key='minioadmin',\n",
    "    secure=False)\n",
    "#print(minioclient.list_buckets())\n",
    "#print(\"Quantidade de Buckets\", len(minioclient.list_buckets()))"
   ]
  },
  {
   "cell_type": "code",
   "execution_count": null,
   "metadata": {},
   "outputs": [],
   "source": [
    "## Aqui os arquivos com a extensão .gpx saem da pasta Download para o bucket MinIO\n",
    "files_to_datalake = [files for files in os.listdir(PRE_PROCESSING) if files.endswith(\".gpx\")]\n",
    "for name_file in files_to_datalake:\n",
    "    local_path = os.path.join(DOWNLOADS, name_file)    \n",
    "    if os.path.isfile(local_path):\n",
    "        try:\n",
    "            minioclient.fput_object(BRONZE_LAYER, name_file, local_path)\n",
    "            print(f\"Arquivo {name_file} enviado com sucesso para o bucket.\")\n",
    "            os.remove(local_path) # --> Após o envio bem sucedido para o bucket o arquivo é excluído da pasta download\n",
    "        except S3Error as e:\n",
    "            print(f\"Erro ao enviar o arquivo: {name_file} -> Erro: {e}\")          "
   ]
  },
  {
   "cell_type": "markdown",
   "metadata": {},
   "source": [
    "## Códigos não mais usados"
   ]
  },
  {
   "cell_type": "code",
   "execution_count": null,
   "metadata": {},
   "outputs": [],
   "source": [
    "## Aqui os arquivos saem da pasta download para a pasta DATALAKE_STAGE\n",
    "\n",
    "# files_to_move = [files for files in os.listdir(DOWNLOADS) if files.endswith(\".gpx\")]\n",
    "# for name_files in files_to_move:\n",
    "#     origin_path = os.path.join(DOWNLOADS, name_files)\n",
    "#     destiny_path = os.path.join(DATALAKE_STAGE, name_files)\n",
    "#     os.rename(origin_path, destiny_path)\n",
    "#     print(f\"Arquivo {name_files} movido para {destiny_path}\")"
   ]
  },
  {
   "cell_type": "code",
   "execution_count": null,
   "metadata": {},
   "outputs": [],
   "source": [
    "## Aqui os arquivos saem da pasta DATALAKE_STAGE para o bucket MinIO\n",
    "\n",
    "# for item in os.listdir(DATALAKE_STAGE):\n",
    "#     local_path = os.path.join(DATALAKE_STAGE, item)\n",
    "#     print(local_path)\n",
    "# \n",
    "#     if os.path.isfile(local_path):\n",
    "#         try:\n",
    "#             minioclient.fput_object(DATA_LAKE, item, local_path)\n",
    "#             print(f\"Arquivo {item} enviado com sucesso para o bucket.\")\n",
    "#         except S3Error as err:\n",
    "#             print(f\"Erro ao enviar o arquivo {item}: {err}\")"
   ]
  },
  {
   "cell_type": "code",
   "execution_count": null,
   "metadata": {},
   "outputs": [],
   "source": [
    "# ## DADOS PARA INSERIR NA TABELA DE CONTROLE USANDO O BEAUTIFULSOAP ## #\n",
    "# navegador = requests.get('https://www.openstreetmap.org/user/sunnypilot/traces/9255974')\n",
    "# site = BeautifulSoup(navegador.text, 'html.parser')\n",
    "# data_trace = site.find('div', attrs={'class': 'content-body'})\n",
    "# table_trace = data_trace.find('table')\n",
    "# \n",
    "# filename_row = table_trace.find('th', string='Filename:').parent\n",
    "# owner_row = table_trace.find('th', string='Owner:').parent\n",
    "# uploaded_row = table_trace.find('th', string='Uploaded:').parent\n",
    "# \n",
    "# filename = filename_row.find('td').text.strip().replace('(download)','').strip()\n",
    "# owner = owner_row.find('td').text.strip()\n",
    "# uploaded = uploaded_row.find('td').text.strip()"
   ]
  },
  {
   "cell_type": "code",
   "execution_count": null,
   "metadata": {},
   "outputs": [],
   "source": [
    "# ## ESTE TRECHO TEM A FINALIDADE DE BAIXAR OS ARQUIVOS ## #\n",
    "#list_finished_routes\n",
    "#list_pending_routes\n",
    "\n",
    "# //*[@id=\"content\"]/div[2]/div/table/tbody/tr[6]/td - finalizado\n",
    "# //*[@id=\"content\"]/div[2]/div/span = PENDENTE\n",
    "# //*[@id=\"content\"]/div[2]/div/table/tbody/tr[4]/td - pendente\n",
    "\n",
    "# ## Trecho descontinuado -- Quando usa [requests.get] estamos usando o BeautifulSoup - e quando usamos só o [.get] estamos usando o selenium\n",
    "# navegador = webdriver.Chrome(service=servico)\n",
    "# for list_route in list_routes:\n",
    "#     sleep(3)\n",
    "#     url = list_route[0]\n",
    "#     navegador.get(url)  #--> Exemplo onde usamos o Selenium somente com o [.get]\n",
    "#     navegador.find_element('xpath','//*[@id=\"content\"]/div[2]/div/table/tbody/tr[1]/td/a').click()\n",
    "# navegador.close()"
   ]
  }
 ],
 "metadata": {
  "kernelspec": {
   "display_name": "venv",
   "language": "python",
   "name": "python3"
  },
  "language_info": {
   "codemirror_mode": {
    "name": "ipython",
    "version": 3
   },
   "file_extension": ".py",
   "mimetype": "text/x-python",
   "name": "python",
   "nbconvert_exporter": "python",
   "pygments_lexer": "ipython3",
   "version": "3.10.12"
  },
  "orig_nbformat": 4
 },
 "nbformat": 4,
 "nbformat_minor": 2
}

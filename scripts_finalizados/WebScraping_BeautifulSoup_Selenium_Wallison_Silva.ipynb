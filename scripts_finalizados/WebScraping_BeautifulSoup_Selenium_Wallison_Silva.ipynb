{
 "cells": [
  {
   "cell_type": "markdown",
   "metadata": {},
   "source": [
    "## Link Playlist: https://www.youtube.com/playlist?list=PLg3ZPsW_sghSkRacynznQeEs-vminyTQk"
   ]
  },
  {
   "cell_type": "markdown",
   "metadata": {},
   "source": [
    "## Aula 2 - Requisições HTTP com o módulo requests | Web Scraping com Python"
   ]
  },
  {
   "cell_type": "code",
   "execution_count": null,
   "metadata": {},
   "outputs": [],
   "source": [
    "import requests"
   ]
  },
  {
   "cell_type": "code",
   "execution_count": null,
   "metadata": {},
   "outputs": [],
   "source": [
    "response = requests.get('https://www.walissonsilva.com/')\n",
    "print('Status Code:', response.status_code)\n",
    "print(\"header\")\n",
    "print(response.headers)"
   ]
  },
  {
   "cell_type": "code",
   "execution_count": null,
   "metadata": {},
   "outputs": [],
   "source": [
    "print(response.content)"
   ]
  },
  {
   "cell_type": "markdown",
   "metadata": {},
   "source": [
    "## Aula 3 - BeautifulSoup: Buscando Notícias na Web | Web Scraping com Python"
   ]
  },
  {
   "cell_type": "code",
   "execution_count": null,
   "metadata": {},
   "outputs": [],
   "source": [
    "import requests\n",
    "from bs4 import BeautifulSoup"
   ]
  },
  {
   "cell_type": "code",
   "execution_count": null,
   "metadata": {},
   "outputs": [],
   "source": [
    "response = requests.get('https://g1.globo.com/')\n",
    "conteudo = response.content\n",
    "site = BeautifulSoup(conteudo, 'html.parser')\n",
    "print(site.prettify())"
   ]
  },
  {
   "cell_type": "code",
   "execution_count": null,
   "metadata": {},
   "outputs": [],
   "source": [
    "noticia = site.find('div', attrs={'class': 'feed-post-body'})\n",
    "print(noticia.prettify())"
   ]
  },
  {
   "cell_type": "code",
   "execution_count": null,
   "metadata": {},
   "outputs": [],
   "source": [
    "titulo = noticia.find('a', attrs={'class': 'feed-post-link'})\n",
    "print(titulo.text)"
   ]
  },
  {
   "cell_type": "code",
   "execution_count": null,
   "metadata": {},
   "outputs": [],
   "source": [
    "sub_titulo = noticia.find('a', attrs={'class': 'gui-color-primary'})\n",
    "print(sub_titulo.text)"
   ]
  },
  {
   "cell_type": "markdown",
   "metadata": {},
   "source": [
    "## Aula 4 - Automatizando a Busca de Notícias na Web | Web Scraping com Python"
   ]
  },
  {
   "cell_type": "code",
   "execution_count": null,
   "metadata": {},
   "outputs": [],
   "source": [
    "import requests\n",
    "from bs4 import BeautifulSoup\n",
    "import pandas as pd"
   ]
  },
  {
   "cell_type": "code",
   "execution_count": null,
   "metadata": {},
   "outputs": [],
   "source": [
    "response = requests.get('https://g1.globo.com/')\n",
    "content = response.content\n",
    "site = BeautifulSoup(content, 'html.parser')\n",
    "lista_noticias = []"
   ]
  },
  {
   "cell_type": "code",
   "execution_count": null,
   "metadata": {},
   "outputs": [],
   "source": [
    "# HTML da notícia\n",
    "noticias = site.findAll('div', attrs={'class': 'feed-post-body'})\n",
    "\n",
    "for noticia in noticias:\n",
    "\n",
    "    # Título\n",
    "    titulo = noticia.find('a', attrs={'class': 'feed-post-link'})\n",
    "    #print(titulo.text)\n",
    "    #print(titulo[\"href\"])\n",
    "\n",
    "    # Subtítulo\n",
    "    subtitulo = noticia.find('div', attrs={'class':'feed-post-body-resumo'})\n",
    "    \n",
    "    if (subtitulo):\n",
    "        #print(subtitulo.text)\n",
    "        lista_noticias.append([titulo.text, subtitulo.text, titulo[\"href\"]])\n",
    "    else:\n",
    "        lista_noticias.append([titulo.text, '', titulo[\"href\"]])    "
   ]
  },
  {
   "cell_type": "code",
   "execution_count": null,
   "metadata": {},
   "outputs": [],
   "source": [
    "lista_noticias"
   ]
  },
  {
   "cell_type": "code",
   "execution_count": null,
   "metadata": {},
   "outputs": [],
   "source": [
    "news = pd.DataFrame(lista_noticias, columns=['Titulo','Subtitulo','Link'])\n",
    "news.to_excel('news.xlsx', index=False)\n",
    "news"
   ]
  },
  {
   "cell_type": "markdown",
   "metadata": {},
   "source": [
    "## Aula 5 - Busca Automatizada por Produtos | Web Scraping com Python"
   ]
  },
  {
   "cell_type": "code",
   "execution_count": null,
   "metadata": {},
   "outputs": [],
   "source": [
    "import requests\n",
    "from bs4 import BeautifulSoup\n",
    "import pandas as pd"
   ]
  },
  {
   "cell_type": "code",
   "execution_count": null,
   "metadata": {},
   "outputs": [],
   "source": [
    "url_base = \"https://lista.mercadolivre.com.br/\"\n",
    "\n",
    "produto_nome = input('Qual Produto voce deseja? ')\n",
    "\n",
    "response = requests.get(url_base + produto_nome)\n",
    "\n",
    "site = BeautifulSoup(response.text, 'html.parser')\n",
    "\n",
    "produtos = site.findAll('div', attrs={'class': 'andes-card ui-search-result shops__cardStyles ui-search-result--core andes-card--flat andes-card--padding-16'})\n",
    "\n",
    "tabela_produtos = []"
   ]
  },
  {
   "cell_type": "code",
   "execution_count": null,
   "metadata": {},
   "outputs": [],
   "source": [
    "for produto in produtos:\n",
    "\n",
    "    titulo = produto.find('h2', attrs={'class': 'ui-search-item__title'})\n",
    "    \n",
    "    link = produto.find('a', attrs={'class':'ui-search-link'})\n",
    "    \n",
    "    valor_int = produto.find('span', attrs={'class': 'andes-money-amount__fraction'})\n",
    "    \n",
    "    valor_cent = produto.find('span', attrs={'class': 'andes-money-amount__cents andes-money-amount__cents--superscript-24'})\n",
    "    \n",
    "    moeda = produto.find('span', attrs={'class':'andes-money-amount__currency-symbol'})\n",
    "\n",
    "    # print(produto.prettify())\n",
    "    # print(f'Título do produto: {titulo.text}')\n",
    "    # print(f\"Link do produto: {link['href']}\")\n",
    "\n",
    "    if (valor_cent):\n",
    "        #print(f'Preço do Produto: {moeda.text} {valor_int.text},{valor_cent.text}')     \n",
    "        valor_final = f'{moeda.text} {valor_int.text},{valor_cent.text}'\n",
    "        tabela_produtos.append([titulo.text, valor_final, link['href']])\n",
    "    else:\n",
    "        #print(f'Preço do Produto: {moeda.text} {valor_int.text}')       \n",
    "        valor_final = f'{moeda.text} {valor_int.text},00' \n",
    "        tabela_produtos.append([titulo.text, valor_final, link['href']])\n",
    "\n",
    "    #print('\\n')"
   ]
  },
  {
   "cell_type": "code",
   "execution_count": null,
   "metadata": {},
   "outputs": [],
   "source": [
    "tab_prod = pd.DataFrame(tabela_produtos, columns=['NOME_PRODUTO', 'VALOR','LINK_PRODUTO'])\n",
    "tab_prod.to_csv(f'preco_{produto_nome}.csv', sep=';', encoding='utf8', index=False)\n",
    "tab_prod"
   ]
  },
  {
   "cell_type": "markdown",
   "metadata": {},
   "source": [
    "## Aula 6 - Primeiros Passos com SELENIUM | Web Scraping com Python"
   ]
  },
  {
   "cell_type": "code",
   "execution_count": null,
   "metadata": {},
   "outputs": [],
   "source": [
    "# pip install selenium\n",
    "# pip install webdriver-manager\n",
    "\n",
    "from selenium import webdriver\n",
    "from webdriver_manager.chrome import ChromeDriverManager\n",
    "from selenium.webdriver.chrome.service import Service\n",
    "from time import sleep\n",
    "\n",
    "servico = Service(ChromeDriverManager().install())\n",
    "navegador = webdriver.Chrome(service=servico)\n",
    "navegador.get('https://www.walissonsilva.com/cursos')\n",
    "#navegador.get('https://www.openstreetmap.org/traces')\n",
    "elemento = navegador.find_element('xpath', '//*[@id=\"__next\"]/div/div/div[1]/div/input')\n",
    "sleep(3)\n",
    "elemento.send_keys('data')"
   ]
  },
  {
   "cell_type": "markdown",
   "metadata": {},
   "source": [
    "## Aula 7 - Integrando o Selenium com o BeautifulSoup: Parte I | Web Scraping com Python"
   ]
  },
  {
   "cell_type": "code",
   "execution_count": 4,
   "metadata": {},
   "outputs": [],
   "source": [
    "from selenium import webdriver\n",
    "from webdriver_manager.chrome import ChromeDriverManager\n",
    "from selenium.webdriver.chrome.service import Service\n",
    "from selenium.webdriver.chrome.options import Options\n",
    "from time import sleep\n",
    "import requests\n",
    "from bs4 import BeautifulSoup\n",
    "from selenium.webdriver.common.by import By\n",
    "from selenium.webdriver.support.ui import WebDriverWait\n",
    "from selenium.webdriver.support import expected_conditions as EC\n",
    "\n",
    "options = Options()\n",
    "# options.add_argument('--headless')\n",
    "options.add_argument('window-size=400,800')\n",
    "servico = Service(ChromeDriverManager().install())"
   ]
  },
  {
   "cell_type": "code",
   "execution_count": 9,
   "metadata": {},
   "outputs": [],
   "source": [
    "## Usando o BeautifulSoup\n",
    "#response = requests.get('https://www.airbnb.com.br') #--> Usando o BeautifulSoup somente com o [requests.get]\n",
    "#site = BeautifulSoup(response.text, 'html.parser')\n",
    "#print(site.prettify())\n",
    "\n",
    "## Usando o Selenium\n",
    "navegador = webdriver.Chrome(service=servico, options=options)\n",
    "navegador.get('https://www.airbnb.com.br') #--> Usando o Selenium somente com o [.get]\n",
    "\n",
    "## Aceitando os cookies\n",
    "xpath_aceitar_cookies = '/html/body/div[5]/div/div/div[1]/div/div[4]/section/div[2]/div[2]/button'\n",
    "try:\n",
    "    botao_aceitar_cookies = WebDriverWait(navegador, 10).until(EC.presence_of_element_located((By.XPATH, xpath_aceitar_cookies)))\n",
    "    botao_aceitar_cookies.click()\n",
    "except Exception as e:\n",
    "    print(\"Não foi possível aceitar os cookies:\", e)"
   ]
  },
  {
   "cell_type": "code",
   "execution_count": 3,
   "metadata": {},
   "outputs": [
    {
     "ename": "ElementNotInteractableException",
     "evalue": "Message: element not interactable\n  (Session info: chrome=115.0.5790.170)\nStacktrace:\n#0 0x556f8dbd5613 <unknown>\n#1 0x556f8d901386 <unknown>\n#2 0x556f8d93a61a <unknown>\n#3 0x556f8d9392cc <unknown>\n#4 0x556f8d960a32 <unknown>\n#5 0x556f8d935bc6 <unknown>\n#6 0x556f8d960bfe <unknown>\n#7 0x556f8d978d09 <unknown>\n#8 0x556f8d960803 <unknown>\n#9 0x556f8d93468b <unknown>\n#10 0x556f8d93542e <unknown>\n#11 0x556f8db96c28 <unknown>\n#12 0x556f8db9aaf7 <unknown>\n#13 0x556f8dba501c <unknown>\n#14 0x556f8db9b723 <unknown>\n#15 0x556f8db6a457 <unknown>\n#16 0x556f8dbbf628 <unknown>\n#17 0x556f8dbbf7b7 <unknown>\n#18 0x556f8dbce483 <unknown>\n#19 0x7f72f4a99b43 <unknown>\n",
     "output_type": "error",
     "traceback": [
      "\u001b[0;31m---------------------------------------------------------------------------\u001b[0m",
      "\u001b[0;31mElementNotInteractableException\u001b[0m           Traceback (most recent call last)",
      "Cell \u001b[0;32mIn[3], line 17\u001b[0m\n\u001b[1;32m     15\u001b[0m local_destino \u001b[39m=\u001b[39m navegador\u001b[39m.\u001b[39mfind_element(\u001b[39m'\u001b[39m\u001b[39mxpath\u001b[39m\u001b[39m'\u001b[39m, \u001b[39m'\u001b[39m\u001b[39m//*[@id=\u001b[39m\u001b[39m\"\u001b[39m\u001b[39m/homes-1-input\u001b[39m\u001b[39m\"\u001b[39m\u001b[39m]\u001b[39m\u001b[39m'\u001b[39m)\n\u001b[1;32m     16\u001b[0m sleep(\u001b[39m5\u001b[39m)\n\u001b[0;32m---> 17\u001b[0m local_destino\u001b[39m.\u001b[39;49msend_keys(\u001b[39m'\u001b[39;49m\u001b[39mRio de Janeiro\u001b[39;49m\u001b[39m'\u001b[39;49m)\n\u001b[1;32m     18\u001b[0m local_destino\u001b[39m.\u001b[39mclick()\n\u001b[1;32m     23\u001b[0m \u001b[39m# place_find = navegador.find_element('xpath', '//*[@id=\"bigsearch-query-location-input\"]')\u001b[39;00m\n\u001b[1;32m     24\u001b[0m \u001b[39m# place_find.send_keys('Rio de Janeiro')\u001b[39;00m\n\u001b[1;32m     25\u001b[0m \u001b[39m# sleep(10)\u001b[39;00m\n\u001b[0;32m   (...)\u001b[0m\n\u001b[1;32m     48\u001b[0m \u001b[39m# site = BeautifulSoup(navegador.page_source, 'html.parser')\u001b[39;00m\n\u001b[1;32m     49\u001b[0m \u001b[39m# print(site.prettify())\u001b[39;00m\n",
      "File \u001b[0;32m~/tcc_ufrj/venv/lib/python3.10/site-packages/selenium/webdriver/remote/webelement.py:231\u001b[0m, in \u001b[0;36mWebElement.send_keys\u001b[0;34m(self, *value)\u001b[0m\n\u001b[1;32m    228\u001b[0m             remote_files\u001b[39m.\u001b[39mappend(\u001b[39mself\u001b[39m\u001b[39m.\u001b[39m_upload(file))\n\u001b[1;32m    229\u001b[0m         value \u001b[39m=\u001b[39m \u001b[39m\"\u001b[39m\u001b[39m\\n\u001b[39;00m\u001b[39m\"\u001b[39m\u001b[39m.\u001b[39mjoin(remote_files)\n\u001b[0;32m--> 231\u001b[0m \u001b[39mself\u001b[39;49m\u001b[39m.\u001b[39;49m_execute(\n\u001b[1;32m    232\u001b[0m     Command\u001b[39m.\u001b[39;49mSEND_KEYS_TO_ELEMENT, {\u001b[39m\"\u001b[39;49m\u001b[39mtext\u001b[39;49m\u001b[39m\"\u001b[39;49m: \u001b[39m\"\u001b[39;49m\u001b[39m\"\u001b[39;49m\u001b[39m.\u001b[39;49mjoin(keys_to_typing(value)), \u001b[39m\"\u001b[39;49m\u001b[39mvalue\u001b[39;49m\u001b[39m\"\u001b[39;49m: keys_to_typing(value)}\n\u001b[1;32m    233\u001b[0m )\n",
      "File \u001b[0;32m~/tcc_ufrj/venv/lib/python3.10/site-packages/selenium/webdriver/remote/webelement.py:395\u001b[0m, in \u001b[0;36mWebElement._execute\u001b[0;34m(self, command, params)\u001b[0m\n\u001b[1;32m    393\u001b[0m     params \u001b[39m=\u001b[39m {}\n\u001b[1;32m    394\u001b[0m params[\u001b[39m\"\u001b[39m\u001b[39mid\u001b[39m\u001b[39m\"\u001b[39m] \u001b[39m=\u001b[39m \u001b[39mself\u001b[39m\u001b[39m.\u001b[39m_id\n\u001b[0;32m--> 395\u001b[0m \u001b[39mreturn\u001b[39;00m \u001b[39mself\u001b[39;49m\u001b[39m.\u001b[39;49m_parent\u001b[39m.\u001b[39;49mexecute(command, params)\n",
      "File \u001b[0;32m~/tcc_ufrj/venv/lib/python3.10/site-packages/selenium/webdriver/remote/webdriver.py:345\u001b[0m, in \u001b[0;36mWebDriver.execute\u001b[0;34m(self, driver_command, params)\u001b[0m\n\u001b[1;32m    343\u001b[0m response \u001b[39m=\u001b[39m \u001b[39mself\u001b[39m\u001b[39m.\u001b[39mcommand_executor\u001b[39m.\u001b[39mexecute(driver_command, params)\n\u001b[1;32m    344\u001b[0m \u001b[39mif\u001b[39;00m response:\n\u001b[0;32m--> 345\u001b[0m     \u001b[39mself\u001b[39;49m\u001b[39m.\u001b[39;49merror_handler\u001b[39m.\u001b[39;49mcheck_response(response)\n\u001b[1;32m    346\u001b[0m     response[\u001b[39m\"\u001b[39m\u001b[39mvalue\u001b[39m\u001b[39m\"\u001b[39m] \u001b[39m=\u001b[39m \u001b[39mself\u001b[39m\u001b[39m.\u001b[39m_unwrap_value(response\u001b[39m.\u001b[39mget(\u001b[39m\"\u001b[39m\u001b[39mvalue\u001b[39m\u001b[39m\"\u001b[39m, \u001b[39mNone\u001b[39;00m))\n\u001b[1;32m    347\u001b[0m     \u001b[39mreturn\u001b[39;00m response\n",
      "File \u001b[0;32m~/tcc_ufrj/venv/lib/python3.10/site-packages/selenium/webdriver/remote/errorhandler.py:229\u001b[0m, in \u001b[0;36mErrorHandler.check_response\u001b[0;34m(self, response)\u001b[0m\n\u001b[1;32m    227\u001b[0m         alert_text \u001b[39m=\u001b[39m value[\u001b[39m\"\u001b[39m\u001b[39malert\u001b[39m\u001b[39m\"\u001b[39m]\u001b[39m.\u001b[39mget(\u001b[39m\"\u001b[39m\u001b[39mtext\u001b[39m\u001b[39m\"\u001b[39m)\n\u001b[1;32m    228\u001b[0m     \u001b[39mraise\u001b[39;00m exception_class(message, screen, stacktrace, alert_text)  \u001b[39m# type: ignore[call-arg]  # mypy is not smart enough here\u001b[39;00m\n\u001b[0;32m--> 229\u001b[0m \u001b[39mraise\u001b[39;00m exception_class(message, screen, stacktrace)\n",
      "\u001b[0;31mElementNotInteractableException\u001b[0m: Message: element not interactable\n  (Session info: chrome=115.0.5790.170)\nStacktrace:\n#0 0x556f8dbd5613 <unknown>\n#1 0x556f8d901386 <unknown>\n#2 0x556f8d93a61a <unknown>\n#3 0x556f8d9392cc <unknown>\n#4 0x556f8d960a32 <unknown>\n#5 0x556f8d935bc6 <unknown>\n#6 0x556f8d960bfe <unknown>\n#7 0x556f8d978d09 <unknown>\n#8 0x556f8d960803 <unknown>\n#9 0x556f8d93468b <unknown>\n#10 0x556f8d93542e <unknown>\n#11 0x556f8db96c28 <unknown>\n#12 0x556f8db9aaf7 <unknown>\n#13 0x556f8dba501c <unknown>\n#14 0x556f8db9b723 <unknown>\n#15 0x556f8db6a457 <unknown>\n#16 0x556f8dbbf628 <unknown>\n#17 0x556f8dbbf7b7 <unknown>\n#18 0x556f8dbce483 <unknown>\n#19 0x7f72f4a99b43 <unknown>\n"
     ]
    }
   ],
   "source": [
    "navegador = webdriver.Chrome(service=servico, options=options)\n",
    "\n",
    "navegador.get('https://www.airbnb.com.br')\n",
    "\n",
    "xpath_aceitar_cookies = '/html/body/div[5]/div/div/div[1]/div/div[4]/section/div[2]/div[2]/button'\n",
    "try:\n",
    "    botao_aceitar_cookies = WebDriverWait(navegador, 10).until(EC.presence_of_element_located((By.XPATH, xpath_aceitar_cookies)))\n",
    "    botao_aceitar_cookies.click()\n",
    "except Exception as e:\n",
    "    print(\"Não foi possível aceitar os cookies:\", e)\n",
    "\n",
    "sleep(10)\n",
    "qualquer_lugar = navegador.find_element('xpath','/html/body/div[5]/div/div/div[1]/div/div[3]/div/div[1]/div[2]/div[1]/div/div[1]/div/div/div/div/div[1]/button/div[2]/div[2]/div[1]/span').click()\n",
    "sleep(10)\n",
    "local_destino = navegador.find_element('xpath', '//*[@id=\"/homes-1-input\"]')\n",
    "sleep(5)\n",
    "local_destino.send_keys('Rio de Janeiro')\n",
    "local_destino.click()\n",
    "\n",
    "\n",
    "\n",
    "\n",
    "# place_find = navegador.find_element('xpath', '//*[@id=\"bigsearch-query-location-input\"]')\n",
    "# place_find.send_keys('Rio de Janeiro')\n",
    "# sleep(10)\n",
    "# place_find.click()\n",
    "\n",
    "\n",
    "\n",
    "# input_place = navegador.find_element('xpath', '/html/body/div[5]/div/div/div[1]/div/div[3]/div[1]/div/div/div/header/div/div[2]/div[1]/div/button[2]/div')\n",
    "# sleep(2)\n",
    "# input_place.submit()\n",
    "# sleep(2)\n",
    "# search_place = navegador.find_element('xpath','//*[@id=\"bigsearch-query-location-input\"]')\n",
    "# sleep(2)\n",
    "# search_place.send_keys('Rio de Janeiro')\n",
    "# sleep(2)\n",
    "# search_place.submit()\n",
    "\n",
    "\n",
    "\n",
    "\n",
    "\n",
    "# input_place = navegador.find_element('xpath', '//*[@id=\"bigsearch-query-location-input\"]')\n",
    "# \n",
    "# input_place.send_keys('São Paulo')\n",
    "\n",
    "# site = BeautifulSoup(navegador.page_source, 'html.parser')\n",
    "# print(site.prettify())"
   ]
  },
  {
   "cell_type": "code",
   "execution_count": 1,
   "metadata": {},
   "outputs": [],
   "source": []
  }
 ],
 "metadata": {
  "kernelspec": {
   "display_name": "venv",
   "language": "python",
   "name": "python3"
  },
  "language_info": {
   "codemirror_mode": {
    "name": "ipython",
    "version": 3
   },
   "file_extension": ".py",
   "mimetype": "text/x-python",
   "name": "python",
   "nbconvert_exporter": "python",
   "pygments_lexer": "ipython3",
   "version": "3.10.12"
  },
  "orig_nbformat": 4
 },
 "nbformat": 4,
 "nbformat_minor": 2
}

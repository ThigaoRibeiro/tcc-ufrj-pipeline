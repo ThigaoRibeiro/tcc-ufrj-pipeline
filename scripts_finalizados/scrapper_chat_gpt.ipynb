{
 "cells": [
  {
   "cell_type": "code",
   "execution_count": 1,
   "metadata": {},
   "outputs": [],
   "source": [
    "# pip install requests\n",
    "import requests"
   ]
  },
  {
   "cell_type": "code",
   "execution_count": 3,
   "metadata": {},
   "outputs": [],
   "source": [
    "overpass_url = \"https://overpass-api.de/api/interpreter\""
   ]
  },
  {
   "cell_type": "code",
   "execution_count": 7,
   "metadata": {},
   "outputs": [],
   "source": [
    "overpass_query = \"\"\"\n",
    "[out:json];\n",
    "(\n",
    "  way[\"highway\"=\"path\"][\"name\"][\"access\"!=\"private\"];\n",
    "  way[\"highway\"=\"track\"][\"name\"][\"access\"!=\"private\"];\n",
    ");\n",
    "out body;\n",
    ">;\n",
    "out skel qt;\n",
    "\"\"\""
   ]
  },
  {
   "cell_type": "code",
   "execution_count": 9,
   "metadata": {},
   "outputs": [],
   "source": [
    "# Faça a solicitação HTTP à API Overpass\n",
    "response = requests.get(overpass_url, params={'data': overpass_query})"
   ]
  },
  {
   "cell_type": "code",
   "execution_count": 11,
   "metadata": {},
   "outputs": [
    {
     "data": {
      "text/plain": [
       "requests.models.Response"
      ]
     },
     "execution_count": 11,
     "metadata": {},
     "output_type": "execute_result"
    }
   ],
   "source": [
    "type(response)"
   ]
  },
  {
   "cell_type": "code",
   "execution_count": 12,
   "metadata": {},
   "outputs": [],
   "source": [
    "data = response.json()"
   ]
  },
  {
   "cell_type": "code",
   "execution_count": 13,
   "metadata": {},
   "outputs": [
    {
     "data": {
      "text/plain": [
       "{'version': 0.6,\n",
       " 'generator': 'Overpass API 0.7.61.4 df4c946a',\n",
       " 'osm3s': {'timestamp_osm_base': '2023-08-03T18:04:03Z',\n",
       "  'copyright': 'The data included in this document is from www.openstreetmap.org. The data is made available under ODbL.'},\n",
       " 'elements': [],\n",
       " 'remark': 'runtime error: Query timed out in \"query\" at line 5 after 181 seconds.'}"
      ]
     },
     "execution_count": 13,
     "metadata": {},
     "output_type": "execute_result"
    }
   ],
   "source": [
    "data"
   ]
  },
  {
   "cell_type": "code",
   "execution_count": 14,
   "metadata": {},
   "outputs": [],
   "source": [
    "# Extrair informações sobre as trilhas disponíveis\n",
    "trails = []\n",
    "for element in data['elements']:\n",
    "    if 'tags' in element:\n",
    "        name = element['tags'].get('name', 'Unnamed')\n",
    "        if name not in trails:\n",
    "            trails.append(name)"
   ]
  },
  {
   "cell_type": "code",
   "execution_count": 15,
   "metadata": {},
   "outputs": [],
   "source": [
    "# Exibir os nomes das trilhas disponíveis\n",
    "for i, trail in enumerate(trails, 1):\n",
    "    print(f\"{i}. {trail}\")"
   ]
  },
  {
   "cell_type": "code",
   "execution_count": null,
   "metadata": {},
   "outputs": [],
   "source": [
    "def get_gps_tracks():\n",
    "    overpass_url = \"https://overpass-api.de/api/interpreter\"\n",
    "    overpass_query = \"\"\"\n",
    "    [out:json];\n",
    "    (\n",
    "      way[\"highway\"=\"path\"][\"name\"];\n",
    "      way[\"highway\"=\"track\"][\"name\"];\n",
    "    );\n",
    "    out body;\n",
    "    >;\n",
    "    out skel qt;\n",
    "    \"\"\"\n",
    "\n",
    "    response = requests.get(overpass_url, params={'data': overpass_query})\n",
    "    data = response.json()\n",
    "\n",
    "    tracks = []\n",
    "    for element in data['elements']:\n",
    "        if 'tags' in element:\n",
    "            name = element['tags'].get('name', 'Unnamed')\n",
    "            tracks.append(name)\n",
    "\n",
    "    return tracks\n",
    "\n",
    "if __name__ == \"__main__\":\n",
    "    gps_tracks = get_gps_tracks()\n",
    "    for i, track in enumerate(gps_tracks, 1):\n",
    "        print(f\"{i}. {track}\")\n"
   ]
  }
 ],
 "metadata": {
  "kernelspec": {
   "display_name": "venv",
   "language": "python",
   "name": "python3"
  },
  "language_info": {
   "codemirror_mode": {
    "name": "ipython",
    "version": 3
   },
   "file_extension": ".py",
   "mimetype": "text/x-python",
   "name": "python",
   "nbconvert_exporter": "python",
   "pygments_lexer": "ipython3",
   "version": "3.10.12"
  },
  "orig_nbformat": 4
 },
 "nbformat": 4,
 "nbformat_minor": 2
}

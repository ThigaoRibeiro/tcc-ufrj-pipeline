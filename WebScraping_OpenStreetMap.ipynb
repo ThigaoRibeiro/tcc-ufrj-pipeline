{
 "cells": [
  {
   "cell_type": "markdown",
   "metadata": {},
   "source": [
    "### Importação das bibliotecas necessárias para a raspagem de dados."
   ]
  },
  {
   "cell_type": "code",
   "execution_count": 2,
   "metadata": {},
   "outputs": [],
   "source": [
    "from selenium import webdriver\n",
    "from webdriver_manager.chrome import ChromeDriverManager\n",
    "from selenium.webdriver.chrome.service import Service\n",
    "from selenium.webdriver.chrome.options import Options\n",
    "from time import sleep\n",
    "import requests\n",
    "from bs4 import BeautifulSoup\n",
    "servico = Service(ChromeDriverManager().install())\n",
    "\n",
    "options = Options()\n",
    "options.add_argument('--headless') #--> Parâmetro adicional onde é possivel realizar o webscrapping sem abrir o navegador.\n",
    "options.add_argument('window-size=400,800') #--> Parâmetro adicional onde é possivel escolher o tamanho da tela aberta no navegador. Nesse exemplo o tamanho 400x800 é como se estivesse aberto em um celular.\n",
    "\n",
    "URL_OPEN_STREET_MAP_TRACES = 'https://www.openstreetmap.org/traces' #--> Página do OpenstreetMap onde estão localizadas as rotas para download.\n",
    "PREFIX_URL_DOWNLOAD = 'https://www.openstreetmap.org' #--> Página do principal do OpenstreetMap. Esta variável será utilizada para montar a URL das páginas de download."
   ]
  },
  {
   "cell_type": "markdown",
   "metadata": {},
   "source": [
    "### Acessando o site Open Street Map e capturando as rotas pendentes e as rotas finalizadas."
   ]
  },
  {
   "cell_type": "code",
   "execution_count": 2,
   "metadata": {},
   "outputs": [
    {
     "name": "stdout",
     "output_type": "stream",
     "text": [
      "PENDING: https://www.openstreetmap.org/user/sunnypilot/traces/9298334\n",
      "PENDING: https://www.openstreetmap.org/user/sunnypilot/traces/9298333\n",
      "PENDING: https://www.openstreetmap.org/user/sunnypilot/traces/9298332\n",
      "PENDING: https://www.openstreetmap.org/user/sunnypilot/traces/9298331\n",
      "FINISHED: https://www.openstreetmap.org/user/dragonpilot/traces/9298327\n",
      "FINISHED: https://www.openstreetmap.org/user/dragonpilot/traces/9298325\n",
      "FINISHED: https://www.openstreetmap.org/user/sunnypilot/traces/9298323\n",
      "FINISHED: https://www.openstreetmap.org/user/sunnypilot/traces/9298322\n",
      "FINISHED: https://www.openstreetmap.org/user/sunnypilot/traces/9298321\n",
      "FINISHED: https://www.openstreetmap.org/user/sunnypilot/traces/9298320\n",
      "FINISHED: https://www.openstreetmap.org/user/sunnypilot/traces/9298319\n",
      "FINISHED: https://www.openstreetmap.org/user/sunnypilot/traces/9298318\n",
      "FINISHED: https://www.openstreetmap.org/user/sunnypilot/traces/9298317\n",
      "FINISHED: https://www.openstreetmap.org/user/sunnypilot/traces/9298316\n",
      "FINISHED: https://www.openstreetmap.org/user/sunnypilot/traces/9298315\n",
      "FINISHED: https://www.openstreetmap.org/user/sunnypilot/traces/9298313\n",
      "FINISHED: https://www.openstreetmap.org/user/sunnypilot/traces/9298312\n",
      "FINISHED: https://www.openstreetmap.org/user/sunnypilot/traces/9298311\n",
      "FINISHED: https://www.openstreetmap.org/user/sunnypilot/traces/9298310\n",
      "FINISHED: https://www.openstreetmap.org/user/dragonpilot/traces/9298309\n"
     ]
    }
   ],
   "source": [
    "# navegador = webdriver.Chrome(service=servico, options=options) #--> Aplicando as opções acima mencionadas no navegador.\n",
    "\n",
    "navegador = webdriver.Chrome(service=servico)\n",
    "navegador.get(URL_OPEN_STREET_MAP_TRACES)\n",
    "\n",
    "page_content = navegador.page_source\n",
    "site = BeautifulSoup(page_content, 'html.parser')\n",
    "routes = site.findAll('tr')\n",
    "\n",
    "list_pending_routes = []\n",
    "list_finished_routes = []\n",
    "list_routes = []\n",
    "\n",
    "for route in routes:\n",
    "    if route.find('span', attrs={'class': 'text-danger'}):\n",
    "        pending_routes = route.find('span', attrs={'class': 'text-danger'})    \n",
    "        pending_link_routes = route.find('a')        \n",
    "        list_routes.append([PREFIX_URL_DOWNLOAD+pending_link_routes['href']])\n",
    "        # list_pending_routes.append([PREFIX_URL_DOWNLOAD+pending_link_routes['href']])\n",
    "        print (f\"{pending_routes.text}: {PREFIX_URL_DOWNLOAD+pending_link_routes['href']}\")\n",
    "\n",
    "    else:         \n",
    "        finished_link_routes = route.find('a')        \n",
    "        list_routes.append([PREFIX_URL_DOWNLOAD+finished_link_routes['href']])\n",
    "        # list_finished_routes.append([PREFIX_URL_DOWNLOAD+finished_link_routes['href']])\n",
    "        print(f\"FINISHED: {PREFIX_URL_DOWNLOAD+finished_link_routes['href']}\")\n",
    "navegador.close()\n",
    "\n",
    "#len(list_pending_routes) #--> Verificando a quantidade de registros na lista de rotas pendentes\n",
    "#len(list_finished_routes) #--> Verificando a quantidade de registros na lista de rotas pendentes"
   ]
  },
  {
   "cell_type": "code",
   "execution_count": 4,
   "metadata": {},
   "outputs": [
    {
     "data": {
      "text/plain": [
       "[['https://www.openstreetmap.org/user/sunnypilot/traces/9282758'],\n",
       " ['https://www.openstreetmap.org/user/sunnypilot/traces/9282757'],\n",
       " ['https://www.openstreetmap.org/user/dragonpilot/traces/9282755'],\n",
       " ['https://www.openstreetmap.org/user/sunnypilot/traces/9282754'],\n",
       " ['https://www.openstreetmap.org/user/sunnypilot/traces/9282753'],\n",
       " ['https://www.openstreetmap.org/user/dragonpilot/traces/9282752'],\n",
       " ['https://www.openstreetmap.org/user/sunnypilot/traces/9282751'],\n",
       " ['https://www.openstreetmap.org/user/sunnypilot/traces/9282750'],\n",
       " ['https://www.openstreetmap.org/user/sunnypilot/traces/9282749'],\n",
       " ['https://www.openstreetmap.org/user/sunnypilot/traces/9282748'],\n",
       " ['https://www.openstreetmap.org/user/sunnypilot/traces/9282747'],\n",
       " ['https://www.openstreetmap.org/user/sunnypilot/traces/9282746'],\n",
       " ['https://www.openstreetmap.org/user/sunnypilot/traces/9282745'],\n",
       " ['https://www.openstreetmap.org/user/sunnypilot/traces/9282744'],\n",
       " ['https://www.openstreetmap.org/user/sunnypilot/traces/9282743'],\n",
       " ['https://www.openstreetmap.org/user/sunnypilot/traces/9282742'],\n",
       " ['https://www.openstreetmap.org/user/sunnypilot/traces/9282741'],\n",
       " ['https://www.openstreetmap.org/user/sunnypilot/traces/9282740'],\n",
       " ['https://www.openstreetmap.org/user/sunnypilot/traces/9282739'],\n",
       " ['https://www.openstreetmap.org/user/sunnypilot/traces/9282738']]"
      ]
     },
     "execution_count": 4,
     "metadata": {},
     "output_type": "execute_result"
    }
   ],
   "source": [
    "#list_finished_routes\n",
    "#list_pending_routes"
   ]
  },
  {
   "cell_type": "markdown",
   "metadata": {},
   "source": [
    "### Acessando a telas para efetuar os downloads."
   ]
  },
  {
   "cell_type": "code",
   "execution_count": 3,
   "metadata": {},
   "outputs": [],
   "source": [
    "## Quando usa [requests.get] estamos usando o BeautifulSoup - e quando usamos só o [.get] estamos usando o selenium\n",
    "navegador = webdriver.Chrome(service=servico)\n",
    "for list_route in list_routes:\n",
    "    sleep(5)\n",
    "    url = list_route[0]\n",
    "    navegador.get(url)  #--> Exemplo onde usamos o Selenium somente com o [.get]\n",
    "    navegador.find_element('xpath','//*[@id=\"content\"]/div[2]/div/table/tbody/tr[1]/td/a').click()\n",
    "navegador.close()"
   ]
  },
  {
   "cell_type": "markdown",
   "metadata": {},
   "source": [
    "### Executando de uma só vez"
   ]
  },
  {
   "cell_type": "code",
   "execution_count": 9,
   "metadata": {},
   "outputs": [
    {
     "name": "stdout",
     "output_type": "stream",
     "text": [
      "FINISHED: https://www.openstreetmap.org/user/dragonpilot/traces/9300222\n",
      "FINISHED: https://www.openstreetmap.org/user/dragonpilot/traces/9300221\n",
      "FINISHED: https://www.openstreetmap.org/user/dragonpilot/traces/9300220\n",
      "PENDING: https://www.openstreetmap.org/user/sunnypilot/traces/9300219\n",
      "PENDING: https://www.openstreetmap.org/user/sunnypilot/traces/9300218\n",
      "PENDING: https://www.openstreetmap.org/user/sunnypilot/traces/9300217\n",
      "FINISHED: https://www.openstreetmap.org/user/sunnypilot/traces/9300216\n",
      "FINISHED: https://www.openstreetmap.org/user/sunnypilot/traces/9300215\n",
      "FINISHED: https://www.openstreetmap.org/user/sunnypilot/traces/9300214\n",
      "FINISHED: https://www.openstreetmap.org/user/sunnypilot/traces/9300213\n",
      "PENDING: https://www.openstreetmap.org/user/sunnypilot/traces/9300212\n",
      "FINISHED: https://www.openstreetmap.org/user/sunnypilot/traces/9300211\n",
      "FINISHED: https://www.openstreetmap.org/user/dragonpilot/traces/9300208\n",
      "FINISHED: https://www.openstreetmap.org/user/dragonpilot/traces/9300207\n",
      "FINISHED: https://www.openstreetmap.org/user/dragonpilot/traces/9300206\n",
      "FINISHED: https://www.openstreetmap.org/user/dragonpilot/traces/9300205\n",
      "FINISHED: https://www.openstreetmap.org/user/sunnypilot/traces/9300204\n",
      "FINISHED: https://www.openstreetmap.org/user/sunnypilot/traces/9300203\n",
      "FINISHED: https://www.openstreetmap.org/user/dragonpilot/traces/9300202\n",
      "FINISHED: https://www.openstreetmap.org/user/dragonpilot/traces/9300201\n"
     ]
    }
   ],
   "source": [
    "from selenium import webdriver\n",
    "from webdriver_manager.chrome import ChromeDriverManager\n",
    "from selenium.webdriver.chrome.service import Service\n",
    "from selenium.webdriver.chrome.options import Options\n",
    "from time import sleep\n",
    "import requests\n",
    "from bs4 import BeautifulSoup\n",
    "servico = Service(ChromeDriverManager().install())\n",
    "\n",
    "options = Options()\n",
    "options.add_argument('--headless') #--> Parâmetro adicional onde é possivel realizar o webscrapping sem abrir o navegador.\n",
    "#options.add_argument('window-size=400,800') #--> Parâmetro adicional onde é possivel escolher o tamanho da tela aberta no navegador. Nesse exemplo o tamanho 400x800 é como se estivesse aberto em um celular.\n",
    "\n",
    "URL_OPEN_STREET_MAP_TRACES = 'https://www.openstreetmap.org/traces' #--> Página do OpenstreetMap onde estão localizadas as rotas para download.\n",
    "PREFIX_URL_DOWNLOAD = 'https://www.openstreetmap.org' #--> Página do principal do OpenstreetMap. Esta variável será utilizada para montar a URL das páginas de download.\n",
    "\n",
    "# navegador = webdriver.Chrome(service=servico, options=options) #--> Aplicando as opções acima mencionadas no navegador.\n",
    "\n",
    "navegador = webdriver.Chrome(service=servico)\n",
    "navegador.get(URL_OPEN_STREET_MAP_TRACES)\n",
    "\n",
    "page_content = navegador.page_source\n",
    "site = BeautifulSoup(page_content, 'html.parser')\n",
    "routes = site.findAll('tr')\n",
    "\n",
    "list_pending_routes = []\n",
    "list_finished_routes = []\n",
    "list_routes = []\n",
    "\n",
    "for route in routes:\n",
    "    if route.find('span', attrs={'class': 'text-danger'}):\n",
    "        pending_routes = route.find('span', attrs={'class': 'text-danger'})    \n",
    "        pending_link_routes = route.find('a')        \n",
    "        list_routes.append([PREFIX_URL_DOWNLOAD+pending_link_routes['href']])\n",
    "        # list_pending_routes.append([PREFIX_URL_DOWNLOAD+pending_link_routes['href']])\n",
    "        print (f\"{pending_routes.text}: {PREFIX_URL_DOWNLOAD+pending_link_routes['href']}\")\n",
    "\n",
    "    else:         \n",
    "        finished_link_routes = route.find('a')        \n",
    "        list_routes.append([PREFIX_URL_DOWNLOAD+finished_link_routes['href']])\n",
    "        # list_finished_routes.append([PREFIX_URL_DOWNLOAD+finished_link_routes['href']])\n",
    "        print(f\"FINISHED: {PREFIX_URL_DOWNLOAD+finished_link_routes['href']}\")\n",
    "#navegador.close()\n",
    "\n",
    "#len(list_pending_routes) #--> Verificando a quantidade de registros na lista de rotas pendentes\n",
    "#len(list_finished_routes) #--> Verificando a quantidade de registros na lista de rotas pendentes\n",
    "\n",
    "## Quando usa [requests.get] estamos usando o BeautifulSoup - e quando usamos só o [.get] estamos usando o selenium\n",
    "#navegador = webdriver.Chrome(service=servico)\n",
    "for list_route in list_routes:\n",
    "    sleep(5)\n",
    "    url = list_route[0]\n",
    "    navegador.get(url)  #--> Exemplo onde usamos o Selenium somente com o [.get]\n",
    "    navegador.find_element('xpath','//*[@id=\"content\"]/div[2]/div/table/tbody/tr[1]/td/a').click()\n",
    "navegador.close()"
   ]
  },
  {
   "cell_type": "markdown",
   "metadata": {},
   "source": [
    "### Movendo os arquivos da pasta Download para o DATALAKE"
   ]
  },
  {
   "cell_type": "code",
   "execution_count": 10,
   "metadata": {},
   "outputs": [],
   "source": [
    "import os\n",
    "import shutil\n",
    "DATALAKE_STAGE = 'DATALAKE_STAGE'  # Substitua pelo caminho do diretório de destino\n",
    "DOWNLOADS = '/home/thiago/Downloads/'"
   ]
  },
  {
   "cell_type": "code",
   "execution_count": 11,
   "metadata": {},
   "outputs": [],
   "source": [
    "files_to_rename = [arquivo for arquivo in os.listdir(DOWNLOADS) if arquivo.endswith(\".crdownload\")]\n",
    "for file_name in files_to_rename:\n",
    "        new_name = file_name.replace(\".crdownload\", \"\")\n",
    "        os.rename(os.path.join(DOWNLOADS, file_name), os.path.join(DOWNLOADS, new_name))"
   ]
  },
  {
   "cell_type": "code",
   "execution_count": 12,
   "metadata": {},
   "outputs": [
    {
     "name": "stdout",
     "output_type": "stream",
     "text": [
      "Arquivo 9300156.gpx movido para DATALAKE_STAGE/9300156.gpx\n",
      "Arquivo 9300218.gpx movido para DATALAKE_STAGE/9300218.gpx\n",
      "Arquivo 9300157.gpx movido para DATALAKE_STAGE/9300157.gpx\n",
      "Arquivo 9300052.gpx movido para DATALAKE_STAGE/9300052.gpx\n",
      "Arquivo 9300159.gpx movido para DATALAKE_STAGE/9300159.gpx\n",
      "Arquivo 9300203.gpx movido para DATALAKE_STAGE/9300203.gpx\n",
      "Arquivo 9300217.gpx movido para DATALAKE_STAGE/9300217.gpx\n",
      "Arquivo 9300142.gpx movido para DATALAKE_STAGE/9300142.gpx\n",
      "Arquivo 9300140.gpx movido para DATALAKE_STAGE/9300140.gpx\n",
      "Arquivo 9300204.gpx movido para DATALAKE_STAGE/9300204.gpx\n",
      "Arquivo 9300153.gpx movido para DATALAKE_STAGE/9300153.gpx\n",
      "Arquivo 9300160.gpx movido para DATALAKE_STAGE/9300160.gpx\n",
      "Arquivo 9300149.gpx movido para DATALAKE_STAGE/9300149.gpx\n",
      "Arquivo 9300150.gpx movido para DATALAKE_STAGE/9300150.gpx\n",
      "Arquivo 9300211.gpx movido para DATALAKE_STAGE/9300211.gpx\n",
      "Arquivo 9300057.gpx movido para DATALAKE_STAGE/9300057.gpx\n",
      "Arquivo 9300152.gpx movido para DATALAKE_STAGE/9300152.gpx\n",
      "Arquivo 9300138.gpx movido para DATALAKE_STAGE/9300138.gpx\n",
      "Arquivo 9300214.gpx movido para DATALAKE_STAGE/9300214.gpx\n",
      "Arquivo 9300215.gpx movido para DATALAKE_STAGE/9300215.gpx\n",
      "Arquivo 9300202.gpx movido para DATALAKE_STAGE/9300202.gpx\n",
      "Arquivo 9300221.gpx movido para DATALAKE_STAGE/9300221.gpx\n",
      "Arquivo 9300050.gpx movido para DATALAKE_STAGE/9300050.gpx\n",
      "Arquivo 9300205.gpx movido para DATALAKE_STAGE/9300205.gpx\n",
      "Arquivo 9300141.gpx movido para DATALAKE_STAGE/9300141.gpx\n",
      "Arquivo 9300147.gpx movido para DATALAKE_STAGE/9300147.gpx\n",
      "Arquivo 9300208.gpx movido para DATALAKE_STAGE/9300208.gpx\n",
      "Arquivo 9300056.gpx movido para DATALAKE_STAGE/9300056.gpx\n",
      "Arquivo 9300055.gpx movido para DATALAKE_STAGE/9300055.gpx\n",
      "Arquivo 9300219.gpx movido para DATALAKE_STAGE/9300219.gpx\n",
      "Arquivo 9300054.gpx movido para DATALAKE_STAGE/9300054.gpx\n",
      "Arquivo 9300213.gpx movido para DATALAKE_STAGE/9300213.gpx\n",
      "Arquivo 9300139.gpx movido para DATALAKE_STAGE/9300139.gpx\n",
      "Arquivo 9300053.gpx movido para DATALAKE_STAGE/9300053.gpx\n",
      "Arquivo 9300158.gpx movido para DATALAKE_STAGE/9300158.gpx\n",
      "Arquivo 9300161.gpx movido para DATALAKE_STAGE/9300161.gpx\n",
      "Arquivo 9300206.gpx movido para DATALAKE_STAGE/9300206.gpx\n",
      "Arquivo 9300151.gpx movido para DATALAKE_STAGE/9300151.gpx\n",
      "Arquivo 9300148.gpx movido para DATALAKE_STAGE/9300148.gpx\n",
      "Arquivo 9300216.gpx movido para DATALAKE_STAGE/9300216.gpx\n",
      "Arquivo 9300145.gpx movido para DATALAKE_STAGE/9300145.gpx\n",
      "Arquivo 9300162.gpx movido para DATALAKE_STAGE/9300162.gpx\n",
      "Arquivo 9300201.gpx movido para DATALAKE_STAGE/9300201.gpx\n",
      "Arquivo 9300058.gpx movido para DATALAKE_STAGE/9300058.gpx\n",
      "Arquivo 9300222.gpx movido para DATALAKE_STAGE/9300222.gpx\n",
      "Arquivo 9300212.gpx movido para DATALAKE_STAGE/9300212.gpx\n",
      "Arquivo 9300207.gpx movido para DATALAKE_STAGE/9300207.gpx\n",
      "Arquivo 9300051.gpx movido para DATALAKE_STAGE/9300051.gpx\n",
      "Arquivo 9300220.gpx movido para DATALAKE_STAGE/9300220.gpx\n"
     ]
    }
   ],
   "source": [
    "files_to_move = [files for files in os.listdir(DOWNLOADS) if files.endswith(\".gpx\")]\n",
    "for name_files in files_to_move:\n",
    "    origin_path = os.path.join(DOWNLOADS, name_files)\n",
    "    destiny_path = os.path.join(DATALAKE_STAGE, name_files)\n",
    "    os.rename(origin_path, destiny_path)\n",
    "    print(f\"Arquivo {name_files} movido para {destiny_path}\")"
   ]
  },
  {
   "cell_type": "code",
   "execution_count": null,
   "metadata": {},
   "outputs": [],
   "source": [
    "# ## DADOS PARA INSERIR NA TABELA DE CONTROLE USANDO O BEAUTIFULSOAP##\n",
    "# navegador = requests.get('https://www.openstreetmap.org/user/sunnypilot/traces/9255974')\n",
    "# site = BeautifulSoup(navegador.text, 'html.parser')\n",
    "# data_trace = site.find('div', attrs={'class': 'content-body'})\n",
    "# table_trace = data_trace.find('table')\n",
    "# \n",
    "# filename_row = table_trace.find('th', string='Filename:').parent\n",
    "# owner_row = table_trace.find('th', string='Owner:').parent\n",
    "# uploaded_row = table_trace.find('th', string='Uploaded:').parent\n",
    "# \n",
    "# filename = filename_row.find('td').text.strip().replace('(download)','').strip()\n",
    "# owner = owner_row.find('td').text.strip()\n",
    "# uploaded = uploaded_row.find('td').text.strip()"
   ]
  }
 ],
 "metadata": {
  "kernelspec": {
   "display_name": "venv",
   "language": "python",
   "name": "python3"
  },
  "language_info": {
   "codemirror_mode": {
    "name": "ipython",
    "version": 3
   },
   "file_extension": ".py",
   "mimetype": "text/x-python",
   "name": "python",
   "nbconvert_exporter": "python",
   "pygments_lexer": "ipython3",
   "version": "3.10.12"
  },
  "orig_nbformat": 4
 },
 "nbformat": 4,
 "nbformat_minor": 2
}

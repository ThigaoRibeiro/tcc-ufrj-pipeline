{
 "cells": [
  {
   "cell_type": "markdown",
   "metadata": {},
   "source": [
    "### Importação das bibliotecas necessárias para a raspagem de dados."
   ]
  },
  {
   "cell_type": "code",
   "execution_count": null,
   "metadata": {},
   "outputs": [],
   "source": [
    "from selenium import webdriver\n",
    "from webdriver_manager.chrome import ChromeDriverManager\n",
    "from selenium.webdriver.chrome.service import Service\n",
    "from selenium.webdriver.chrome.options import Options\n",
    "from time import sleep\n",
    "import requests\n",
    "from bs4 import BeautifulSoup\n",
    "servico = Service(ChromeDriverManager().install())\n",
    "\n",
    "options = Options()\n",
    "options.add_argument('--headless') #--> Parâmetro adicional onde é possivel realizar o webscrapping sem abrir o navegador.\n",
    "options.add_argument('window-size=400,800') #--> Parâmetro adicional onde é possivel escolher o tamanho da tela aberta no navegador. Nesse exemplo o tamanho 400x800 é como se estivesse aberto em um celular.\n",
    "\n",
    "URL_OPEN_STREET_MAP_TRACES = 'https://www.openstreetmap.org/traces' #--> Página do OpenstreetMap onde estão localizadas as rotas para download.\n",
    "PREFIX_URL_DOWNLOAD = 'https://www.openstreetmap.org' #--> Página do principal do OpenstreetMap. Esta variável será utilizada para montar a URL das páginas de download."
   ]
  },
  {
   "cell_type": "markdown",
   "metadata": {},
   "source": [
    "### Acessando o site Open Street Map e capturando as rotas pendentes e as rotas finalizadas."
   ]
  },
  {
   "cell_type": "code",
   "execution_count": null,
   "metadata": {},
   "outputs": [],
   "source": [
    "# navegador = webdriver.Chrome(service=servico, options=options) #--> Aplicando as opções acima mencionadas no navegador.\n",
    "\n",
    "navegador = webdriver.Chrome(service=servico)\n",
    "navegador.get(URL_OPEN_STREET_MAP_TRACES)\n",
    "\n",
    "page_content = navegador.page_source\n",
    "site = BeautifulSoup(page_content, 'html.parser')\n",
    "routes = site.findAll('tr')\n",
    "\n",
    "list_pending_routes = []\n",
    "list_finished_routes = []\n",
    "\n",
    "for route in routes:\n",
    "    if route.find('span', attrs={'class': 'text-danger'}):\n",
    "        pending_routes = route.find('span', attrs={'class': 'text-danger'})    \n",
    "        pending_link_routes = route.find('a')        \n",
    "        list_pending_routes.append([PREFIX_URL_DOWNLOAD+pending_link_routes['href']])\n",
    "        print (f\"{pending_routes.text}: {PREFIX_URL_DOWNLOAD+pending_link_routes['href']}\")\n",
    "\n",
    "    else:         \n",
    "        finished_link_routes = route.find('a')        \n",
    "        list_finished_routes.append([PREFIX_URL_DOWNLOAD+finished_link_routes['href']])\n",
    "        print(f\"FINISHED: {PREFIX_URL_DOWNLOAD+finished_link_routes['href']}\")\n",
    "navegador.close()\n",
    "\n",
    "#len(list_pending_routes) #--> Verificando a quantidade de registros na lista de rotas pendentes\n",
    "#len(list_finished_routes) #--> Verificando a quantidade de registros na lista de rotas pendentes"
   ]
  },
  {
   "cell_type": "markdown",
   "metadata": {},
   "source": [
    "### Acessando a telas para efetuar os downloads."
   ]
  },
  {
   "cell_type": "code",
   "execution_count": null,
   "metadata": {},
   "outputs": [],
   "source": [
    "## Quando usa [requests.get] estamos usando o BeautifulSoup - e quando usamos só o [.get] estamos usando o selenium\n",
    "navegador = webdriver.Chrome(service=servico)\n",
    "for list_finished_route in list_finished_routes:\n",
    "    sleep(5)\n",
    "    url = list_finished_route[0]\n",
    "    navegador.get(url)  #--> Exemplo onse usamos o Selenium somente com o [.get]\n",
    "    navegador.find_element('xpath','//*[@id=\"content\"]/div[2]/div/table/tbody/tr[1]/td/a').click()\n",
    "navegador.close()"
   ]
  },
  {
   "cell_type": "code",
   "execution_count": null,
   "metadata": {},
   "outputs": [],
   "source": [
    "## DADOS PARA INSERIR NA TABELA DE CONTROLE USANDO O BEAUTIFULSOAP##\n",
    "navegador = requests.get('https://www.openstreetmap.org/user/sunnypilot/traces/9255974')\n",
    "site = BeautifulSoup(navegador.text, 'html.parser')\n",
    "data_trace = site.find('div', attrs={'class': 'content-body'})\n",
    "table_trace = data_trace.find('table')\n",
    "\n",
    "filename_row = table_trace.find('th', string='Filename:').parent\n",
    "owner_row = table_trace.find('th', string='Owner:').parent\n",
    "uploaded_row = table_trace.find('th', string='Uploaded:').parent\n",
    "\n",
    "filename = filename_row.find('td').text.strip().replace('(download)','').strip()\n",
    "owner = owner_row.find('td').text.strip()\n",
    "uploaded = uploaded_row.find('td').text.strip()"
   ]
  }
 ],
 "metadata": {
  "kernelspec": {
   "display_name": "venv",
   "language": "python",
   "name": "python3"
  },
  "language_info": {
   "codemirror_mode": {
    "name": "ipython",
    "version": 3
   },
   "file_extension": ".py",
   "mimetype": "text/x-python",
   "name": "python",
   "nbconvert_exporter": "python",
   "pygments_lexer": "ipython3",
   "version": "3.10.12"
  },
  "orig_nbformat": 4
 },
 "nbformat": 4,
 "nbformat_minor": 2
}

{
 "cells": [
  {
   "cell_type": "code",
   "execution_count": 5,
   "metadata": {},
   "outputs": [],
   "source": [
    "# Link Aula: https://www.youtube.com/watch?v=WzUPnQwSQyk\n",
    "# pip install requests\n",
    "# pip install beautifulsoup4\n",
    "\n",
    "import requests\n",
    "from bs4 import BeautifulSoup"
   ]
  },
  {
   "cell_type": "code",
   "execution_count": 23,
   "metadata": {},
   "outputs": [
    {
     "name": "stdout",
     "output_type": "stream",
     "text": [
      "<title>cotacao dolar - Pesquisa Google</title>\n"
     ]
    }
   ],
   "source": [
    "link = 'https://www.google.com/search?q=cotacao+dolar'\n",
    "headers = {\"User-Agent\": \"Mozilla/5.0 (X11; Linux x86_64) AppleWebKit/537.36 (KHTML, like Gecko) Chrome/115.0.0.0 Safari/537.36\"}\n",
    "\n",
    "#link = 'https://www.openstreetmap.org/traces'\n",
    "\n",
    "requisicao = requests.get(link, headers=headers)\n",
    "#print(requisicao)\n",
    "site = BeautifulSoup(requisicao.text,'html.parser')\n",
    "#print(site.prettify())\n",
    "titulo = site.find(\"title\")\n",
    "print(titulo)\n"
   ]
  },
  {
   "cell_type": "code",
   "execution_count": 25,
   "metadata": {},
   "outputs": [
    {
     "name": "stdout",
     "output_type": "stream",
     "text": [
      "<input disabled=\"true\" name=\"iflsig\" type=\"hidden\" value=\"AD69kcEAAAAAZM2HbF3qW_h-3qH0uTiNv94ByHh7B3Uw\"/>\n"
     ]
    }
   ],
   "source": [
    "pesquisa = site.find_all(\"input\")\n",
    "print(pesquisa[1])"
   ]
  },
  {
   "cell_type": "code",
   "execution_count": 26,
   "metadata": {},
   "outputs": [
    {
     "name": "stdout",
     "output_type": "stream",
     "text": [
      "cotacao dolar\n"
     ]
    }
   ],
   "source": [
    "pesquisa2 = site.find(\"textarea\", class_=\"gLFyf\")\n",
    "print(pesquisa2[\"value\"])"
   ]
  },
  {
   "cell_type": "code",
   "execution_count": 32,
   "metadata": {},
   "outputs": [
    {
     "name": "stdout",
     "output_type": "stream",
     "text": [
      "4.8734\n"
     ]
    }
   ],
   "source": [
    "cotacao = site.find(\"span\", class_=\"SwHCTb\")\n",
    "print(cotacao[\"data-value\"])\n",
    "#print(cotacao)"
   ]
  },
  {
   "cell_type": "code",
   "execution_count": 35,
   "metadata": {},
   "outputs": [
    {
     "name": "stdout",
     "output_type": "stream",
     "text": [
      "4,87\n"
     ]
    }
   ],
   "source": [
    "print(cotacao.get_text())\n"
   ]
  }
 ],
 "metadata": {
  "kernelspec": {
   "display_name": "venv",
   "language": "python",
   "name": "python3"
  },
  "language_info": {
   "codemirror_mode": {
    "name": "ipython",
    "version": 3
   },
   "file_extension": ".py",
   "mimetype": "text/x-python",
   "name": "python",
   "nbconvert_exporter": "python",
   "pygments_lexer": "ipython3",
   "version": "3.10.12"
  },
  "orig_nbformat": 4
 },
 "nbformat": 4,
 "nbformat_minor": 2
}
